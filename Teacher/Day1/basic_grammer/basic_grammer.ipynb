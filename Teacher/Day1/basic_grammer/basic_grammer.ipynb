{
 "cells": [
  {
   "cell_type": "markdown",
   "id": "324cf06b",
   "metadata": {},
   "source": [
    "### Quotation in Python"
   ]
  },
  {
   "cell_type": "code",
   "execution_count": 7,
   "id": "c5fec1e7",
   "metadata": {},
   "outputs": [
    {
     "data": {
      "text/plain": [
       "'HelloWorld'"
      ]
     },
     "execution_count": 7,
     "metadata": {},
     "output_type": "execute_result"
    }
   ],
   "source": [
    "string = 'HelloWorld'\n",
    "string"
   ]
  },
  {
   "cell_type": "code",
   "execution_count": 8,
   "id": "ae59b373",
   "metadata": {},
   "outputs": [
    {
     "name": "stdout",
     "output_type": "stream",
     "text": [
      "HelloWorld\n"
     ]
    }
   ],
   "source": [
    "string = \"HelloWorld\"\n",
    "print(string)"
   ]
  },
  {
   "cell_type": "code",
   "execution_count": 9,
   "id": "60c8ced4",
   "metadata": {},
   "outputs": [
    {
     "data": {
      "text/plain": [
       "'HelloWorld'"
      ]
     },
     "execution_count": 9,
     "metadata": {},
     "output_type": "execute_result"
    }
   ],
   "source": [
    "string = '''HelloWorld'''\n",
    "string"
   ]
  },
  {
   "cell_type": "code",
   "execution_count": 2,
   "id": "137b5e77",
   "metadata": {},
   "outputs": [
    {
     "data": {
      "text/plain": [
       "'helloworld'"
      ]
     },
     "execution_count": 2,
     "metadata": {},
     "output_type": "execute_result"
    }
   ],
   "source": [
    "string = \"hello\\\n",
    "world\"\n",
    "string"
   ]
  },
  {
   "cell_type": "code",
   "execution_count": 11,
   "id": "5b3efd91",
   "metadata": {},
   "outputs": [
    {
     "ename": "SyntaxError",
     "evalue": "EOL while scanning string literal (Temp/ipykernel_8816/1871184050.py, line 1)",
     "output_type": "error",
     "traceback": [
      "\u001b[1;36m  File \u001b[1;32m\"C:\\Users\\elias\\AppData\\Local\\Temp/ipykernel_8816/1871184050.py\"\u001b[1;36m, line \u001b[1;32m1\u001b[0m\n\u001b[1;33m    string = \"Hello\u001b[0m\n\u001b[1;37m                   ^\u001b[0m\n\u001b[1;31mSyntaxError\u001b[0m\u001b[1;31m:\u001b[0m EOL while scanning string literal\n"
     ]
    }
   ],
   "source": [
    "string = \"Hello\n",
    "world\"\n",
    "string"
   ]
  },
  {
   "cell_type": "code",
   "execution_count": 12,
   "id": "563c728b",
   "metadata": {},
   "outputs": [
    {
     "ename": "SyntaxError",
     "evalue": "EOL while scanning string literal (Temp/ipykernel_8816/2390693113.py, line 1)",
     "output_type": "error",
     "traceback": [
      "\u001b[1;36m  File \u001b[1;32m\"C:\\Users\\elias\\AppData\\Local\\Temp/ipykernel_8816/2390693113.py\"\u001b[1;36m, line \u001b[1;32m1\u001b[0m\n\u001b[1;33m    string = 'Hello\u001b[0m\n\u001b[1;37m                   ^\u001b[0m\n\u001b[1;31mSyntaxError\u001b[0m\u001b[1;31m:\u001b[0m EOL while scanning string literal\n"
     ]
    }
   ],
   "source": [
    "string = 'Hello\n",
    "world'\n",
    "string"
   ]
  },
  {
   "cell_type": "code",
   "execution_count": 13,
   "id": "a62641a0",
   "metadata": {},
   "outputs": [
    {
     "name": "stdout",
     "output_type": "stream",
     "text": [
      "Hello\n",
      "World\n",
      "\n"
     ]
    }
   ],
   "source": [
    "string = '''Hello\n",
    "World\n",
    "'''\n",
    "string\n",
    "print(string)"
   ]
  },
  {
   "cell_type": "code",
   "execution_count": 14,
   "id": "bccb66d7",
   "metadata": {},
   "outputs": [
    {
     "name": "stdout",
     "output_type": "stream",
     "text": [
      "select * from where name = \"elias.kim\"\n"
     ]
    }
   ],
   "source": [
    "string = 'select * from where name = \"elias.kim\"'\n",
    "print(string)"
   ]
  },
  {
   "cell_type": "code",
   "execution_count": 15,
   "id": "16de82e3",
   "metadata": {},
   "outputs": [
    {
     "name": "stdout",
     "output_type": "stream",
     "text": [
      "<a href=\"http://naver.com\">Naver</a>\n"
     ]
    }
   ],
   "source": [
    "html = '<a href=\"http://naver.com\">Naver</a>'\n",
    "print(html)"
   ]
  },
  {
   "cell_type": "code",
   "execution_count": 16,
   "id": "29340d13",
   "metadata": {},
   "outputs": [
    {
     "name": "stdout",
     "output_type": "stream",
     "text": [
      "'HelloWorld'\n"
     ]
    }
   ],
   "source": [
    "string = '\\'HelloWorld\\''\n",
    "string\n",
    "print(string)"
   ]
  },
  {
   "cell_type": "code",
   "execution_count": 17,
   "id": "e38b0305",
   "metadata": {},
   "outputs": [
    {
     "name": "stdout",
     "output_type": "stream",
     "text": [
      "\"HelloWorld\"\n"
     ]
    }
   ],
   "source": [
    "string = '\"HelloWorld\"'\n",
    "string\n",
    "print(string)"
   ]
  },
  {
   "cell_type": "code",
   "execution_count": 18,
   "id": "8ad0702f",
   "metadata": {},
   "outputs": [
    {
     "name": "stdout",
     "output_type": "stream",
     "text": [
      "\"HelloWorld\"\n"
     ]
    }
   ],
   "source": [
    "string = \"\\\"HelloWorld\\\"\"\n",
    "string\n",
    "print(string)"
   ]
  },
  {
   "cell_type": "markdown",
   "id": "cfa41849",
   "metadata": {},
   "source": [
    "### Comments in python"
   ]
  },
  {
   "cell_type": "code",
   "execution_count": 19,
   "id": "7a6dda3b",
   "metadata": {},
   "outputs": [],
   "source": [
    "# This is comment\n",
    "# fdjskla\n",
    "# fdjkslfdjskla"
   ]
  },
  {
   "cell_type": "code",
   "execution_count": 20,
   "id": "b6c4b46a",
   "metadata": {},
   "outputs": [
    {
     "data": {
      "text/plain": [
       "10"
      ]
     },
     "execution_count": 20,
     "metadata": {},
     "output_type": "execute_result"
    }
   ],
   "source": [
    "a = 10\n",
    "'''This\n",
    "is\n",
    "multiline\n",
    "comments'''\n",
    "a"
   ]
  },
  {
   "cell_type": "markdown",
   "id": "59ba119d",
   "metadata": {},
   "source": [
    "### Standard Data Types"
   ]
  },
  {
   "cell_type": "markdown",
   "id": "f6274d07",
   "metadata": {},
   "source": [
    "#### 1.Boolean"
   ]
  },
  {
   "cell_type": "code",
   "execution_count": 21,
   "id": "fcf76709",
   "metadata": {},
   "outputs": [
    {
     "name": "stdout",
     "output_type": "stream",
     "text": [
      "False\n"
     ]
    },
    {
     "data": {
      "text/plain": [
       "bool"
      ]
     },
     "execution_count": 21,
     "metadata": {},
     "output_type": "execute_result"
    }
   ],
   "source": [
    "a = (10 == 20)\n",
    "print(a)\n",
    "type(a)"
   ]
  },
  {
   "cell_type": "code",
   "execution_count": 22,
   "id": "02ad3b12",
   "metadata": {},
   "outputs": [
    {
     "data": {
      "text/plain": [
       "True"
      ]
     },
     "execution_count": 22,
     "metadata": {},
     "output_type": "execute_result"
    }
   ],
   "source": [
    "a = ('abc' != 'def')\n",
    "a"
   ]
  },
  {
   "cell_type": "code",
   "execution_count": 23,
   "id": "50c7d275",
   "metadata": {},
   "outputs": [
    {
     "data": {
      "text/plain": [
       "2"
      ]
     },
     "execution_count": 23,
     "metadata": {},
     "output_type": "execute_result"
    }
   ],
   "source": [
    "True + True"
   ]
  },
  {
   "cell_type": "code",
   "execution_count": 24,
   "id": "74a9e984",
   "metadata": {},
   "outputs": [
    {
     "data": {
      "text/plain": [
       "0"
      ]
     },
     "execution_count": 24,
     "metadata": {},
     "output_type": "execute_result"
    }
   ],
   "source": [
    "True * False"
   ]
  },
  {
   "cell_type": "code",
   "execution_count": 25,
   "id": "204e29af",
   "metadata": {},
   "outputs": [
    {
     "ename": "ZeroDivisionError",
     "evalue": "division by zero",
     "output_type": "error",
     "traceback": [
      "\u001b[1;31m---------------------------------------------------------------------------\u001b[0m",
      "\u001b[1;31mZeroDivisionError\u001b[0m                         Traceback (most recent call last)",
      "\u001b[1;32m~\\AppData\\Local\\Temp/ipykernel_8816/2794436645.py\u001b[0m in \u001b[0;36m<module>\u001b[1;34m\u001b[0m\n\u001b[1;32m----> 1\u001b[1;33m \u001b[1;32mTrue\u001b[0m\u001b[1;33m/\u001b[0m\u001b[1;32mFalse\u001b[0m\u001b[1;33m\u001b[0m\u001b[1;33m\u001b[0m\u001b[0m\n\u001b[0m",
      "\u001b[1;31mZeroDivisionError\u001b[0m: division by zero"
     ]
    }
   ],
   "source": [
    "True/False"
   ]
  },
  {
   "cell_type": "markdown",
   "id": "b4f04538",
   "metadata": {},
   "source": [
    "#### 2. Numbers"
   ]
  },
  {
   "cell_type": "code",
   "execution_count": 26,
   "id": "9aa57a05",
   "metadata": {},
   "outputs": [
    {
     "name": "stdout",
     "output_type": "stream",
     "text": [
      "100\n"
     ]
    },
    {
     "data": {
      "text/plain": [
       "int"
      ]
     },
     "execution_count": 26,
     "metadata": {},
     "output_type": "execute_result"
    }
   ],
   "source": [
    "a = 100\n",
    "print(a)\n",
    "type(a)"
   ]
  },
  {
   "cell_type": "code",
   "execution_count": 27,
   "id": "2b44502e",
   "metadata": {},
   "outputs": [
    {
     "name": "stdout",
     "output_type": "stream",
     "text": [
      "100.0\n"
     ]
    },
    {
     "data": {
      "text/plain": [
       "float"
      ]
     },
     "execution_count": 27,
     "metadata": {},
     "output_type": "execute_result"
    }
   ],
   "source": [
    "a = 100.0\n",
    "print(a)\n",
    "type(a)"
   ]
  },
  {
   "cell_type": "code",
   "execution_count": 28,
   "id": "08fba779",
   "metadata": {},
   "outputs": [
    {
     "name": "stdout",
     "output_type": "stream",
     "text": [
      "100\n"
     ]
    },
    {
     "data": {
      "text/plain": [
       "int"
      ]
     },
     "execution_count": 28,
     "metadata": {},
     "output_type": "execute_result"
    }
   ],
   "source": [
    "b = int(a)\n",
    "print(b)\n",
    "type(b)"
   ]
  },
  {
   "cell_type": "code",
   "execution_count": 29,
   "id": "f78232d7",
   "metadata": {},
   "outputs": [
    {
     "name": "stdout",
     "output_type": "stream",
     "text": [
      "c: 100.0\n"
     ]
    },
    {
     "ename": "NameError",
     "evalue": "name 'ic' is not defined",
     "output_type": "error",
     "traceback": [
      "\u001b[1;31m---------------------------------------------------------------------------\u001b[0m",
      "\u001b[1;31mNameError\u001b[0m                                 Traceback (most recent call last)",
      "\u001b[1;32m~\\AppData\\Local\\Temp/ipykernel_8816/245136368.py\u001b[0m in \u001b[0;36m<module>\u001b[1;34m\u001b[0m\n\u001b[0;32m      1\u001b[0m \u001b[0mc\u001b[0m \u001b[1;33m=\u001b[0m \u001b[0mfloat\u001b[0m\u001b[1;33m(\u001b[0m\u001b[0mb\u001b[0m\u001b[1;33m)\u001b[0m\u001b[1;33m\u001b[0m\u001b[1;33m\u001b[0m\u001b[0m\n\u001b[0;32m      2\u001b[0m \u001b[0mprint\u001b[0m\u001b[1;33m(\u001b[0m\u001b[1;34m'c:'\u001b[0m\u001b[1;33m,\u001b[0m \u001b[0mc\u001b[0m\u001b[1;33m)\u001b[0m\u001b[1;33m\u001b[0m\u001b[1;33m\u001b[0m\u001b[0m\n\u001b[1;32m----> 3\u001b[1;33m \u001b[0mic\u001b[0m\u001b[1;33m(\u001b[0m\u001b[0mc\u001b[0m\u001b[1;33m)\u001b[0m\u001b[1;33m\u001b[0m\u001b[1;33m\u001b[0m\u001b[0m\n\u001b[0m\u001b[0;32m      4\u001b[0m \u001b[0mtype\u001b[0m\u001b[1;33m(\u001b[0m\u001b[0mc\u001b[0m\u001b[1;33m)\u001b[0m\u001b[1;33m\u001b[0m\u001b[1;33m\u001b[0m\u001b[0m\n",
      "\u001b[1;31mNameError\u001b[0m: name 'ic' is not defined"
     ]
    }
   ],
   "source": [
    "c = float(b)\n",
    "print('c:', c)\n",
    "ic(c)\n",
    "type(c)"
   ]
  },
  {
   "cell_type": "code",
   "execution_count": 30,
   "id": "f4eda73e",
   "metadata": {},
   "outputs": [
    {
     "name": "stdout",
     "output_type": "stream",
     "text": [
      "Requirement already satisfied: icecream in d:\\source\\lg_python_automation\\venv\\lib\\site-packages (2.1.1)\n",
      "Requirement already satisfied: pygments>=2.2.0 in d:\\source\\lg_python_automation\\venv\\lib\\site-packages (from icecream) (2.10.0)\n",
      "Requirement already satisfied: asttokens>=2.0.1 in d:\\source\\lg_python_automation\\venv\\lib\\site-packages (from icecream) (2.0.5)\n",
      "Requirement already satisfied: colorama>=0.3.9 in d:\\source\\lg_python_automation\\venv\\lib\\site-packages (from icecream) (0.4.4)\n",
      "Requirement already satisfied: executing>=0.3.1 in d:\\source\\lg_python_automation\\venv\\lib\\site-packages (from icecream) (0.8.0)\n",
      "Requirement already satisfied: six in d:\\source\\lg_python_automation\\venv\\lib\\site-packages (from asttokens>=2.0.1->icecream) (1.16.0)\n"
     ]
    },
    {
     "name": "stderr",
     "output_type": "stream",
     "text": [
      "WARNING: You are using pip version 21.1.2; however, version 21.2.4 is available.\n",
      "You should consider upgrading via the 'D:\\source\\lg_python_automation\\venv\\Scripts\\python.exe -m pip install --upgrade pip' command.\n"
     ]
    }
   ],
   "source": [
    "!pip install icecream"
   ]
  },
  {
   "cell_type": "code",
   "execution_count": 5,
   "id": "91c34a2c",
   "metadata": {},
   "outputs": [],
   "source": [
    "from icecream import ic"
   ]
  },
  {
   "cell_type": "code",
   "execution_count": 32,
   "id": "41b3198d",
   "metadata": {},
   "outputs": [],
   "source": [
    "# int() float()"
   ]
  },
  {
   "cell_type": "code",
   "execution_count": 33,
   "id": "756df2ca",
   "metadata": {},
   "outputs": [
    {
     "name": "stderr",
     "output_type": "stream",
     "text": [
      "ic| d: 1.1234567890123457\n"
     ]
    },
    {
     "data": {
      "text/plain": [
       "1.1234567890123457"
      ]
     },
     "execution_count": 33,
     "metadata": {},
     "output_type": "execute_result"
    }
   ],
   "source": [
    "d = 1.12345678901234567890\n",
    "ic(d)"
   ]
  },
  {
   "cell_type": "code",
   "execution_count": 34,
   "id": "ca7fbf7a",
   "metadata": {},
   "outputs": [
    {
     "name": "stderr",
     "output_type": "stream",
     "text": [
      "ic| d: 1.123\n"
     ]
    },
    {
     "data": {
      "text/plain": [
       "1.123"
      ]
     },
     "execution_count": 34,
     "metadata": {},
     "output_type": "execute_result"
    }
   ],
   "source": [
    "d = round(d, 3)\n",
    "ic(d)"
   ]
  },
  {
   "cell_type": "markdown",
   "id": "4944f4f7",
   "metadata": {},
   "source": [
    "### 4.String"
   ]
  },
  {
   "cell_type": "code",
   "execution_count": 35,
   "id": "8fc760b3",
   "metadata": {},
   "outputs": [
    {
     "name": "stderr",
     "output_type": "stream",
     "text": [
      "ic| a: 'Hello World'\n"
     ]
    },
    {
     "data": {
      "text/plain": [
       "'Hello World'"
      ]
     },
     "execution_count": 35,
     "metadata": {},
     "output_type": "execute_result"
    }
   ],
   "source": [
    "a = 'Hello World'\n",
    "ic(a)"
   ]
  },
  {
   "cell_type": "markdown",
   "id": "aabec5c2",
   "metadata": {},
   "source": [
    "- Slicing"
   ]
  },
  {
   "cell_type": "code",
   "execution_count": 36,
   "id": "3fc59d8b",
   "metadata": {},
   "outputs": [
    {
     "data": {
      "text/plain": [
       "'e'"
      ]
     },
     "execution_count": 36,
     "metadata": {},
     "output_type": "execute_result"
    }
   ],
   "source": [
    "a[1]"
   ]
  },
  {
   "cell_type": "code",
   "execution_count": 37,
   "id": "fb1221a3",
   "metadata": {},
   "outputs": [
    {
     "data": {
      "text/plain": [
       "'el'"
      ]
     },
     "execution_count": 37,
     "metadata": {},
     "output_type": "execute_result"
    }
   ],
   "source": [
    "a[1:2+1] # 1~2"
   ]
  },
  {
   "cell_type": "code",
   "execution_count": 38,
   "id": "66ba3642",
   "metadata": {},
   "outputs": [
    {
     "data": {
      "text/plain": [
       "'el ol'"
      ]
     },
     "execution_count": 38,
     "metadata": {},
     "output_type": "execute_result"
    }
   ],
   "source": [
    "# variable[start:end:increment]\n",
    "a[1::2]"
   ]
  },
  {
   "cell_type": "code",
   "execution_count": 39,
   "id": "f7de38d0",
   "metadata": {},
   "outputs": [
    {
     "data": {
      "text/plain": [
       "'d'"
      ]
     },
     "execution_count": 39,
     "metadata": {},
     "output_type": "execute_result"
    }
   ],
   "source": [
    "a[-1]"
   ]
  },
  {
   "cell_type": "code",
   "execution_count": 40,
   "id": "09736f55",
   "metadata": {},
   "outputs": [
    {
     "name": "stderr",
     "output_type": "stream",
     "text": [
      "ic| a: 'Hello World'\n"
     ]
    },
    {
     "data": {
      "text/plain": [
       "'Hello World'"
      ]
     },
     "execution_count": 40,
     "metadata": {},
     "output_type": "execute_result"
    }
   ],
   "source": [
    "a = 'Hello World'\n",
    "ic(a)"
   ]
  },
  {
   "cell_type": "code",
   "execution_count": 41,
   "id": "0f51ca5a",
   "metadata": {},
   "outputs": [
    {
     "data": {
      "text/plain": [
       "'llo World'"
      ]
     },
     "execution_count": 41,
     "metadata": {},
     "output_type": "execute_result"
    }
   ],
   "source": [
    "a[2:]"
   ]
  },
  {
   "cell_type": "code",
   "execution_count": 42,
   "id": "a8f15076",
   "metadata": {},
   "outputs": [
    {
     "data": {
      "text/plain": [
       "'He'"
      ]
     },
     "execution_count": 42,
     "metadata": {},
     "output_type": "execute_result"
    }
   ],
   "source": [
    "a[:2]"
   ]
  },
  {
   "cell_type": "code",
   "execution_count": 43,
   "id": "76c39212",
   "metadata": {},
   "outputs": [
    {
     "data": {
      "text/plain": [
       "'World'"
      ]
     },
     "execution_count": 43,
     "metadata": {},
     "output_type": "execute_result"
    }
   ],
   "source": [
    "a[-5:]"
   ]
  },
  {
   "cell_type": "markdown",
   "id": "68763e39",
   "metadata": {},
   "source": [
    "- operation"
   ]
  },
  {
   "cell_type": "code",
   "execution_count": 44,
   "id": "1a2cbb2c",
   "metadata": {},
   "outputs": [
    {
     "name": "stderr",
     "output_type": "stream",
     "text": [
      "ic| c: 'HelloWorld'\n"
     ]
    },
    {
     "data": {
      "text/plain": [
       "'HelloWorld'"
      ]
     },
     "execution_count": 44,
     "metadata": {},
     "output_type": "execute_result"
    }
   ],
   "source": [
    "a = 'Hello'\n",
    "b = 'World'\n",
    "c = a + b\n",
    "ic(c)"
   ]
  },
  {
   "cell_type": "code",
   "execution_count": 45,
   "id": "7aea0bba",
   "metadata": {},
   "outputs": [
    {
     "ename": "TypeError",
     "evalue": "can't multiply sequence by non-int of type 'str'",
     "output_type": "error",
     "traceback": [
      "\u001b[1;31m---------------------------------------------------------------------------\u001b[0m",
      "\u001b[1;31mTypeError\u001b[0m                                 Traceback (most recent call last)",
      "\u001b[1;32m~\\AppData\\Local\\Temp/ipykernel_8816/887332239.py\u001b[0m in \u001b[0;36m<module>\u001b[1;34m\u001b[0m\n\u001b[1;32m----> 1\u001b[1;33m \u001b[0mc\u001b[0m \u001b[1;33m=\u001b[0m \u001b[0ma\u001b[0m\u001b[1;33m*\u001b[0m\u001b[0mb\u001b[0m\u001b[1;33m\u001b[0m\u001b[1;33m\u001b[0m\u001b[0m\n\u001b[0m\u001b[0;32m      2\u001b[0m \u001b[0mic\u001b[0m\u001b[1;33m(\u001b[0m\u001b[0mc\u001b[0m\u001b[1;33m)\u001b[0m\u001b[1;33m\u001b[0m\u001b[1;33m\u001b[0m\u001b[0m\n",
      "\u001b[1;31mTypeError\u001b[0m: can't multiply sequence by non-int of type 'str'"
     ]
    }
   ],
   "source": [
    "c = a*b\n",
    "ic(c)"
   ]
  },
  {
   "cell_type": "code",
   "execution_count": 46,
   "id": "6d53fd3b",
   "metadata": {},
   "outputs": [
    {
     "ename": "TypeError",
     "evalue": "unsupported operand type(s) for -: 'str' and 'str'",
     "output_type": "error",
     "traceback": [
      "\u001b[1;31m---------------------------------------------------------------------------\u001b[0m",
      "\u001b[1;31mTypeError\u001b[0m                                 Traceback (most recent call last)",
      "\u001b[1;32m~\\AppData\\Local\\Temp/ipykernel_8816/1329187330.py\u001b[0m in \u001b[0;36m<module>\u001b[1;34m\u001b[0m\n\u001b[1;32m----> 1\u001b[1;33m \u001b[0mc\u001b[0m \u001b[1;33m=\u001b[0m \u001b[0ma\u001b[0m \u001b[1;33m-\u001b[0m \u001b[0mb\u001b[0m\u001b[1;33m\u001b[0m\u001b[1;33m\u001b[0m\u001b[0m\n\u001b[0m\u001b[0;32m      2\u001b[0m \u001b[0mic\u001b[0m\u001b[1;33m(\u001b[0m\u001b[0mc\u001b[0m\u001b[1;33m)\u001b[0m\u001b[1;33m\u001b[0m\u001b[1;33m\u001b[0m\u001b[0m\n",
      "\u001b[1;31mTypeError\u001b[0m: unsupported operand type(s) for -: 'str' and 'str'"
     ]
    }
   ],
   "source": [
    "c = a - b\n",
    "ic(c)"
   ]
  },
  {
   "cell_type": "code",
   "execution_count": 47,
   "id": "c8a1ae0a",
   "metadata": {},
   "outputs": [
    {
     "data": {
      "text/plain": [
       "'===================================================================================================='"
      ]
     },
     "execution_count": 47,
     "metadata": {},
     "output_type": "execute_result"
    }
   ],
   "source": [
    "#'==========================================================='\n",
    "a = '='\n",
    "a * 100"
   ]
  },
  {
   "cell_type": "code",
   "execution_count": 48,
   "id": "24f678ec",
   "metadata": {},
   "outputs": [
    {
     "name": "stderr",
     "output_type": "stream",
     "text": [
      "ic| c: 'HelloWorld'\n"
     ]
    },
    {
     "data": {
      "text/plain": [
       "'HelloWorld'"
      ]
     },
     "execution_count": 48,
     "metadata": {},
     "output_type": "execute_result"
    }
   ],
   "source": [
    "a = 'Hello'\n",
    "b = 'World'\n",
    "c = a + b\n",
    "ic(c)"
   ]
  },
  {
   "cell_type": "code",
   "execution_count": 49,
   "id": "176acd20",
   "metadata": {},
   "outputs": [
    {
     "name": "stdout",
     "output_type": "stream",
     "text": [
      "Yes\n"
     ]
    }
   ],
   "source": [
    "# if / else if / else\n",
    "# {}\n",
    "# if a:\n",
    "#     pass\n",
    "# elif:\n",
    "#     pass\n",
    "# else:\n",
    "#     pass\n",
    "a = 'Hello World'\n",
    "if 'Hello' in a:\n",
    "    print('Yes')\n",
    "else:\n",
    "    print('No')"
   ]
  },
  {
   "cell_type": "code",
   "execution_count": 50,
   "id": "4cb40877",
   "metadata": {},
   "outputs": [
    {
     "name": "stdout",
     "output_type": "stream",
     "text": [
      "No\n"
     ]
    }
   ],
   "source": [
    "a = 'Hello World'\n",
    "if 'Hello' not in a:\n",
    "    print('Yes')\n",
    "else:\n",
    "    print('No')"
   ]
  },
  {
   "cell_type": "markdown",
   "id": "79893323",
   "metadata": {},
   "source": [
    "- Formatting"
   ]
  },
  {
   "cell_type": "markdown",
   "id": "f4f31e95",
   "metadata": {},
   "source": [
    "> % operator"
   ]
  },
  {
   "cell_type": "code",
   "execution_count": 51,
   "id": "78d77b91",
   "metadata": {},
   "outputs": [
    {
     "name": "stdout",
     "output_type": "stream",
     "text": [
      "Charactor: A\n",
      "String: Elias Kim\n",
      "Integer: 22\n",
      "Float: 180.500000\n",
      "Hex: 0x2f 0x2F\n",
      "Exponential: 2.200000e+01\n"
     ]
    }
   ],
   "source": [
    "char_A = 'A'\n",
    "name = 'Elias Kim'\n",
    "age = 22\n",
    "height = 180.5\n",
    "\n",
    "# %c, %d, %s, %f, %x, %e\n",
    "print('Charactor: %c' % ord(char_A))\n",
    "print('String: %s' % name)\n",
    "print('Integer: %d' % age)\n",
    "\n",
    "print('Float: %f' % height)\n",
    "print('Hex: 0x%x 0x%X' % (47,47))\n",
    "print('Exponential: %e' % age)"
   ]
  },
  {
   "cell_type": "code",
   "execution_count": 52,
   "id": "59a66f1a",
   "metadata": {},
   "outputs": [
    {
     "name": "stdout",
     "output_type": "stream",
     "text": [
      "A1\n",
      "B1\n",
      "C1\n",
      "D1\n",
      "E1\n",
      "F1\n",
      "G1\n",
      "H1\n",
      "I1\n",
      "J1\n",
      "K1\n",
      "L1\n",
      "M1\n",
      "N1\n",
      "O1\n",
      "P1\n",
      "Q1\n",
      "R1\n",
      "S1\n",
      "T1\n",
      "U1\n",
      "V1\n",
      "W1\n",
      "X1\n",
      "Y1\n",
      "Z1\n"
     ]
    }
   ],
   "source": [
    "for char in range(65, 65 + 26):\n",
    "    cell = '%c1' % char\n",
    "    print(cell)"
   ]
  },
  {
   "cell_type": "code",
   "execution_count": 59,
   "id": "cd1d0e1d",
   "metadata": {},
   "outputs": [
    {
     "name": "stdout",
     "output_type": "stream",
     "text": [
      "Elias Kim 22 180.5\n",
      "[           Elias Kim]\n",
      "[Elias Kim           ]\n",
      "[   22]\n",
      "[22   ]\n",
      "[00022]\n",
      "[180.500]\n"
     ]
    }
   ],
   "source": [
    "print('%s %s %s' % (name, age, height))\n",
    "print('[%20s]' % name) # 우측정렬(기본값)\n",
    "print('[%-20s]' % name) # 좌측정렬\n",
    "print('[%5d]' % age) # 우측정렬(기본값)\n",
    "print('[%-5d]' % age)# 좌측정렬\n",
    "print('[%05d]' % age) # 우측정렬(기본값)\n",
    "print('[%0.3f]' % height) # 우측정렬(기본값)"
   ]
  },
  {
   "cell_type": "markdown",
   "id": "8d216394",
   "metadata": {},
   "source": [
    "> format mathod"
   ]
  },
  {
   "cell_type": "code",
   "execution_count": 60,
   "id": "cd071fc1",
   "metadata": {},
   "outputs": [
    {
     "data": {
      "text/plain": [
       "'Elias Kim: 22/180.5'"
      ]
     },
     "execution_count": 60,
     "metadata": {},
     "output_type": "execute_result"
    }
   ],
   "source": [
    "'{}: {}/{}'.format(name, age, height)\n",
    "# '{0}: {1}/{2}'.format(name, age, height)"
   ]
  },
  {
   "cell_type": "code",
   "execution_count": 62,
   "id": "45f599e0",
   "metadata": {},
   "outputs": [
    {
     "data": {
      "text/plain": [
       "'180.5: 22/Elias Kim'"
      ]
     },
     "execution_count": 62,
     "metadata": {},
     "output_type": "execute_result"
    }
   ],
   "source": [
    "'{2}: {1}/{0}'.format(name, age, height)"
   ]
  },
  {
   "cell_type": "code",
   "execution_count": 63,
   "id": "05ee048c",
   "metadata": {},
   "outputs": [
    {
     "data": {
      "text/plain": [
       "'Elias Kim: 22/180.5'"
      ]
     },
     "execution_count": 63,
     "metadata": {},
     "output_type": "execute_result"
    }
   ],
   "source": [
    "'{_name}: {_age}/{_height}'.format(_name=name, _age=age, _height=height)"
   ]
  },
  {
   "cell_type": "code",
   "execution_count": 65,
   "id": "c9ea9aac",
   "metadata": {},
   "outputs": [
    {
     "data": {
      "text/plain": [
       "'[Elias Kim           ]'"
      ]
     },
     "execution_count": 65,
     "metadata": {},
     "output_type": "execute_result"
    }
   ],
   "source": [
    "'[{0:20}]'.format(name)"
   ]
  },
  {
   "cell_type": "code",
   "execution_count": 66,
   "id": "9a1e4b9e",
   "metadata": {},
   "outputs": [
    {
     "data": {
      "text/plain": [
       "'[           Elias Kim]'"
      ]
     },
     "execution_count": 66,
     "metadata": {},
     "output_type": "execute_result"
    }
   ],
   "source": [
    "'[{0:>20}]'.format(name)"
   ]
  },
  {
   "cell_type": "code",
   "execution_count": 67,
   "id": "395a6c8e",
   "metadata": {},
   "outputs": [
    {
     "data": {
      "text/plain": [
       "'[     Elias Kim      ]'"
      ]
     },
     "execution_count": 67,
     "metadata": {},
     "output_type": "execute_result"
    }
   ],
   "source": [
    "'[{0:^20}]'.format(name)"
   ]
  },
  {
   "cell_type": "code",
   "execution_count": 68,
   "id": "2f26dcf4",
   "metadata": {},
   "outputs": [
    {
     "data": {
      "text/plain": [
       "'[=====Elias Kim======]'"
      ]
     },
     "execution_count": 68,
     "metadata": {},
     "output_type": "execute_result"
    }
   ],
   "source": [
    "'[{0:=^20}]'.format(name)"
   ]
  },
  {
   "cell_type": "code",
   "execution_count": 72,
   "id": "bb574cd3",
   "metadata": {},
   "outputs": [
    {
     "data": {
      "text/plain": [
       "'[  180.5000]'"
      ]
     },
     "execution_count": 72,
     "metadata": {},
     "output_type": "execute_result"
    }
   ],
   "source": [
    "'[{0:10.4f}]'.format(height)"
   ]
  },
  {
   "cell_type": "markdown",
   "id": "24fa79d8",
   "metadata": {},
   "source": [
    "> f format"
   ]
  },
  {
   "cell_type": "code",
   "execution_count": 77,
   "id": "cf2de933",
   "metadata": {},
   "outputs": [
    {
     "data": {
      "text/plain": [
       "'Elias Kim: 22/180.5'"
      ]
     },
     "execution_count": 77,
     "metadata": {},
     "output_type": "execute_result"
    }
   ],
   "source": [
    "f'{name}: {age}/{height}'"
   ]
  },
  {
   "cell_type": "code",
   "execution_count": 82,
   "id": "7c38354a",
   "metadata": {},
   "outputs": [
    {
     "name": "stderr",
     "output_type": "stream",
     "text": [
      "ic| phone_number: '12345'\n"
     ]
    },
    {
     "data": {
      "text/plain": [
       "'12345'"
      ]
     },
     "execution_count": 82,
     "metadata": {},
     "output_type": "execute_result"
    }
   ],
   "source": [
    "phone = 12345\n",
    "phone_number = f'{phone}'\n",
    "ic(phone_number)"
   ]
  },
  {
   "cell_type": "markdown",
   "id": "c0571949",
   "metadata": {},
   "source": [
    "- Built in String method"
   ]
  },
  {
   "cell_type": "code",
   "execution_count": 86,
   "id": "56ab1977",
   "metadata": {},
   "outputs": [],
   "source": [
    "a = 'hello World'"
   ]
  },
  {
   "cell_type": "code",
   "execution_count": 89,
   "id": "3e61fe5f",
   "metadata": {},
   "outputs": [
    {
     "data": {
      "text/plain": [
       "'Hello world'"
      ]
     },
     "execution_count": 89,
     "metadata": {},
     "output_type": "execute_result"
    }
   ],
   "source": [
    "a.capitalize() # 첫번째 문자가 대문자로 변경"
   ]
  },
  {
   "cell_type": "code",
   "execution_count": 88,
   "id": "3cee57be",
   "metadata": {},
   "outputs": [
    {
     "data": {
      "text/plain": [
       "11"
      ]
     },
     "execution_count": 88,
     "metadata": {},
     "output_type": "execute_result"
    }
   ],
   "source": [
    "len(a) # 문자열의 길이값 리턴"
   ]
  },
  {
   "cell_type": "code",
   "execution_count": 90,
   "id": "9291bcc8",
   "metadata": {},
   "outputs": [
    {
     "data": {
      "text/plain": [
       "'HELLO WORLD'"
      ]
     },
     "execution_count": 90,
     "metadata": {},
     "output_type": "execute_result"
    }
   ],
   "source": [
    "a.upper() # 대문자로 변환"
   ]
  },
  {
   "cell_type": "code",
   "execution_count": 91,
   "id": "22f0a2ef",
   "metadata": {},
   "outputs": [
    {
     "data": {
      "text/plain": [
       "'hello world'"
      ]
     },
     "execution_count": 91,
     "metadata": {},
     "output_type": "execute_result"
    }
   ],
   "source": [
    "a.lower() # 소문자로 변환"
   ]
  },
  {
   "cell_type": "code",
   "execution_count": 92,
   "id": "9d92bfa2",
   "metadata": {},
   "outputs": [
    {
     "data": {
      "text/plain": [
       "3"
      ]
     },
     "execution_count": 92,
     "metadata": {},
     "output_type": "execute_result"
    }
   ],
   "source": [
    "a.count('l') # 문자열내에 해당문자가 포함된 개수"
   ]
  },
  {
   "cell_type": "code",
   "execution_count": 93,
   "id": "00cf1569",
   "metadata": {},
   "outputs": [
    {
     "data": {
      "text/plain": [
       "6"
      ]
     },
     "execution_count": 93,
     "metadata": {},
     "output_type": "execute_result"
    }
   ],
   "source": [
    "a.find('W') # 문자열내에 해당문자의 위치"
   ]
  },
  {
   "cell_type": "code",
   "execution_count": 94,
   "id": "06b25ad9",
   "metadata": {},
   "outputs": [
    {
     "data": {
      "text/plain": [
       "6"
      ]
     },
     "execution_count": 94,
     "metadata": {},
     "output_type": "execute_result"
    }
   ],
   "source": [
    "a.index('W') # 문자열내에 해당문자의 위치"
   ]
  },
  {
   "cell_type": "code",
   "execution_count": 95,
   "id": "dcf2b53e",
   "metadata": {},
   "outputs": [
    {
     "data": {
      "text/plain": [
       "-1"
      ]
     },
     "execution_count": 95,
     "metadata": {},
     "output_type": "execute_result"
    }
   ],
   "source": [
    "a.find('z') # 해당문자가 없으면 -1 리턴"
   ]
  },
  {
   "cell_type": "code",
   "execution_count": 97,
   "id": "ea913b4f",
   "metadata": {},
   "outputs": [
    {
     "ename": "ValueError",
     "evalue": "substring not found",
     "output_type": "error",
     "traceback": [
      "\u001b[1;31m---------------------------------------------------------------------------\u001b[0m",
      "\u001b[1;31mValueError\u001b[0m                                Traceback (most recent call last)",
      "\u001b[1;32m~\\AppData\\Local\\Temp/ipykernel_8816/1804504478.py\u001b[0m in \u001b[0;36m<module>\u001b[1;34m\u001b[0m\n\u001b[1;32m----> 1\u001b[1;33m \u001b[0ma\u001b[0m\u001b[1;33m.\u001b[0m\u001b[0mindex\u001b[0m\u001b[1;33m(\u001b[0m\u001b[1;34m'z'\u001b[0m\u001b[1;33m)\u001b[0m \u001b[1;31m# 해당문자가 없으면 예외발생\u001b[0m\u001b[1;33m\u001b[0m\u001b[1;33m\u001b[0m\u001b[0m\n\u001b[0m",
      "\u001b[1;31mValueError\u001b[0m: substring not found"
     ]
    }
   ],
   "source": [
    "a.index('z') # 해당문자가 없으면 예외발생"
   ]
  },
  {
   "cell_type": "code",
   "execution_count": 98,
   "id": "2eea6097",
   "metadata": {},
   "outputs": [
    {
     "data": {
      "text/plain": [
       "True"
      ]
     },
     "execution_count": 98,
     "metadata": {},
     "output_type": "execute_result"
    }
   ],
   "source": [
    "num = '12345'\n",
    "num.isnumeric() # 문자열이 숫자냐?"
   ]
  },
  {
   "cell_type": "code",
   "execution_count": 99,
   "id": "34d76598",
   "metadata": {},
   "outputs": [
    {
     "data": {
      "text/plain": [
       "True"
      ]
     },
     "execution_count": 99,
     "metadata": {},
     "output_type": "execute_result"
    }
   ],
   "source": [
    "num.isdigit() # 문자열이 숫자냐?"
   ]
  },
  {
   "cell_type": "code",
   "execution_count": 100,
   "id": "199d2451",
   "metadata": {},
   "outputs": [
    {
     "data": {
      "text/plain": [
       "True"
      ]
     },
     "execution_count": 100,
     "metadata": {},
     "output_type": "execute_result"
    }
   ],
   "source": [
    "num.isdecimal() # 문자열이 숫자냐?"
   ]
  },
  {
   "cell_type": "code",
   "execution_count": 102,
   "id": "59b0ead9",
   "metadata": {},
   "outputs": [
    {
     "name": "stderr",
     "output_type": "stream",
     "text": [
      "ic| num2.isnumeric(): True\n",
      "ic| num2.isdigit(): True\n",
      "ic| num2.isdecimal(): False\n"
     ]
    },
    {
     "data": {
      "text/plain": [
       "False"
      ]
     },
     "execution_count": 102,
     "metadata": {},
     "output_type": "execute_result"
    }
   ],
   "source": [
    "num2 = '3²'\n",
    "ic(num2.isnumeric())\n",
    "ic(num2.isdigit())\n",
    "ic(num2.isdecimal())"
   ]
  },
  {
   "cell_type": "code",
   "execution_count": 122,
   "id": "f7ac4913",
   "metadata": {},
   "outputs": [
    {
     "name": "stdout",
     "output_type": "stream",
     "text": [
      "True\n",
      "False\n"
     ]
    }
   ],
   "source": [
    "alphabet = 'abcdef'\n",
    "print(alphabet.isalpha()) # 문자냐?\n",
    "alphabet = 'abc def'\n",
    "print(alphabet.isalpha())"
   ]
  },
  {
   "cell_type": "code",
   "execution_count": 123,
   "id": "f788456e",
   "metadata": {},
   "outputs": [
    {
     "data": {
      "text/plain": [
       "False"
      ]
     },
     "execution_count": 123,
     "metadata": {},
     "output_type": "execute_result"
    }
   ],
   "source": [
    "alphabet.isspace() # 문자열안에 빈공간(space bar)이 있냐?"
   ]
  },
  {
   "cell_type": "code",
   "execution_count": 127,
   "id": "7e2c3651",
   "metadata": {},
   "outputs": [
    {
     "name": "stderr",
     "output_type": "stream",
     "text": [
      "ic| a: 'Hello World'\n",
      "ic| type(a): <class 'str'>\n",
      "ic| b: b'Hello World'\n",
      "ic| type(b): <class 'bytes'>\n"
     ]
    },
    {
     "data": {
      "text/plain": [
       "bytes"
      ]
     },
     "execution_count": 127,
     "metadata": {},
     "output_type": "execute_result"
    }
   ],
   "source": [
    "a = 'Hello World'\n",
    "ic(a)\n",
    "ic(type(a))\n",
    "b = a.encode() # unicode -> bytes\n",
    "ic(b)\n",
    "ic(type(b))"
   ]
  },
  {
   "cell_type": "code",
   "execution_count": 129,
   "id": "802aa6c5",
   "metadata": {},
   "outputs": [
    {
     "name": "stderr",
     "output_type": "stream",
     "text": [
      "ic| c: 'Hello World'\n",
      "ic| type(c): <class 'str'>\n"
     ]
    },
    {
     "data": {
      "text/plain": [
       "str"
      ]
     },
     "execution_count": 129,
     "metadata": {},
     "output_type": "execute_result"
    }
   ],
   "source": [
    "c = b.decode() # bytes -> unicode\n",
    "ic(c)\n",
    "ic(type(c))"
   ]
  },
  {
   "cell_type": "code",
   "execution_count": 151,
   "id": "a60bbe8c",
   "metadata": {},
   "outputs": [],
   "source": [
    "a = '안녕 세계야~'\n",
    "# a = 'Hello World'"
   ]
  },
  {
   "cell_type": "code",
   "execution_count": 157,
   "id": "00e84ae8",
   "metadata": {},
   "outputs": [
    {
     "data": {
      "text/plain": [
       "b'\\xbe\\xc8\\xb3\\xe7 \\xbc\\xbc\\xb0\\xe8\\xbe\\xdf~'"
      ]
     },
     "execution_count": 157,
     "metadata": {},
     "output_type": "execute_result"
    }
   ],
   "source": [
    "b = a.encode(encoding='cp949') # Codepage 949: 한글\n",
    "b"
   ]
  },
  {
   "cell_type": "code",
   "execution_count": 155,
   "id": "681ec398",
   "metadata": {},
   "outputs": [
    {
     "data": {
      "text/plain": [
       "'안녕 세계야~'"
      ]
     },
     "execution_count": 155,
     "metadata": {},
     "output_type": "execute_result"
    }
   ],
   "source": [
    "# c = b.decode(encoding='utf-8') # Error\n",
    "c = b.decode(encoding='cp949')\n",
    "c"
   ]
  },
  {
   "cell_type": "code",
   "execution_count": 159,
   "id": "300813fc",
   "metadata": {},
   "outputs": [
    {
     "data": {
      "text/plain": [
       "b'\\xec\\x95\\x88\\xeb\\x85\\x95 \\xec\\x84\\xb8\\xea\\xb3\\x84\\xec\\x95\\xbc~'"
      ]
     },
     "execution_count": 159,
     "metadata": {},
     "output_type": "execute_result"
    }
   ],
   "source": [
    "b = a.encode(encoding='utf-8') # Codepage 949: 한글\n",
    "b"
   ]
  },
  {
   "cell_type": "code",
   "execution_count": 162,
   "id": "3fbd4a83",
   "metadata": {},
   "outputs": [
    {
     "data": {
      "text/plain": [
       "'안녕 세계야~'"
      ]
     },
     "execution_count": 162,
     "metadata": {},
     "output_type": "execute_result"
    }
   ],
   "source": [
    "# c = b.decode(encoding='cp949') # Error\n",
    "c = b.decode(encoding='utf-8')\n",
    "c"
   ]
  },
  {
   "cell_type": "code",
   "execution_count": 167,
   "id": "e7dd75a0",
   "metadata": {},
   "outputs": [
    {
     "name": "stderr",
     "output_type": "stream",
     "text": [
      "ic| a: 'dog,cat,tiger,lion'\n",
      "ic| str(a): 'dog,cat,tiger,lion'\n"
     ]
    },
    {
     "data": {
      "text/plain": [
       "'dog,cat,tiger,lion'"
      ]
     },
     "execution_count": 167,
     "metadata": {},
     "output_type": "execute_result"
    }
   ],
   "source": [
    "animals = ['dog', 'cat', 'tiger', 'lion']\n",
    "a = ','.join(animals) # 리스트를 문자열로 변환\n",
    "ic(a)\n",
    "ic(str(a))"
   ]
  },
  {
   "cell_type": "code",
   "execution_count": 168,
   "id": "9a4ed5e0",
   "metadata": {},
   "outputs": [
    {
     "name": "stderr",
     "output_type": "stream",
     "text": [
      "ic| b: ['dog', 'cat', 'tiger', 'lion']\n",
      "ic| type(b): <class 'list'>\n"
     ]
    },
    {
     "data": {
      "text/plain": [
       "list"
      ]
     },
     "execution_count": 168,
     "metadata": {},
     "output_type": "execute_result"
    }
   ],
   "source": [
    "b = a.split(',')\n",
    "ic(b)\n",
    "ic(type(b))"
   ]
  },
  {
   "cell_type": "code",
   "execution_count": 171,
   "id": "28a7bc57",
   "metadata": {},
   "outputs": [
    {
     "name": "stderr",
     "output_type": "stream",
     "text": [
      "ic| phone.strip(): '010881901983'\n",
      "ic| phone.lstrip(): '010881901983    '\n",
      "ic| phone.rstrip(): '    010881901983'\n"
     ]
    },
    {
     "data": {
      "text/plain": [
       "'    010881901983'"
      ]
     },
     "execution_count": 171,
     "metadata": {},
     "output_type": "execute_result"
    }
   ],
   "source": [
    "phone = '    010881901983    '\n",
    "# phone2 = '010881901983'\n",
    "# phone == phone2\n",
    "ic(phone.strip())\n",
    "ic(phone.lstrip())\n",
    "ic(phone.rstrip())"
   ]
  },
  {
   "cell_type": "code",
   "execution_count": 174,
   "id": "2a46dc8a",
   "metadata": {},
   "outputs": [
    {
     "name": "stderr",
     "output_type": "stream",
     "text": [
      "ic| new_phone: '010.3103.2819'\n",
      "ic| phone: '010-3103-2819'\n"
     ]
    },
    {
     "data": {
      "text/plain": [
       "'010-3103-2819'"
      ]
     },
     "execution_count": 174,
     "metadata": {},
     "output_type": "execute_result"
    }
   ],
   "source": [
    "phone = '010-3103-2819' # 010.XXXX.XXXX\n",
    "new_phone = phone.replace('-', '.')\n",
    "ic(new_phone)\n",
    "ic(phone)"
   ]
  },
  {
   "cell_type": "markdown",
   "id": "3d62d819",
   "metadata": {},
   "source": [
    "### 5. List"
   ]
  },
  {
   "cell_type": "code",
   "execution_count": 195,
   "id": "c33a1f5f",
   "metadata": {},
   "outputs": [
    {
     "data": {
      "text/plain": [
       "[5, 3, 4, 1, 2]"
      ]
     },
     "execution_count": 195,
     "metadata": {},
     "output_type": "execute_result"
    }
   ],
   "source": [
    "list1 = list()\n",
    "list1 = []\n",
    "\n",
    "list1 = [5,3,4,1,2] # int\n",
    "list1"
   ]
  },
  {
   "cell_type": "code",
   "execution_count": 176,
   "id": "c238d83b",
   "metadata": {},
   "outputs": [
    {
     "data": {
      "text/plain": [
       "['a', 'b', 'c', 'd', 'e']"
      ]
     },
     "execution_count": 176,
     "metadata": {},
     "output_type": "execute_result"
    }
   ],
   "source": [
    "list2 = ['a', 'b', 'c', 'd', 'e'] # 문자열\n",
    "list2"
   ]
  },
  {
   "cell_type": "code",
   "execution_count": 177,
   "id": "039477c9",
   "metadata": {},
   "outputs": [
    {
     "data": {
      "text/plain": [
       "[1, 'a', 2, 'b', 3, 'c']"
      ]
     },
     "execution_count": 177,
     "metadata": {},
     "output_type": "execute_result"
    }
   ],
   "source": [
    "list3 = [1, 'a', 2, 'b', 3, 'c'] # 혼합\n",
    "list3"
   ]
  },
  {
   "cell_type": "code",
   "execution_count": 178,
   "id": "38a3f81b",
   "metadata": {},
   "outputs": [
    {
     "data": {
      "text/plain": [
       "2"
      ]
     },
     "execution_count": 178,
     "metadata": {},
     "output_type": "execute_result"
    }
   ],
   "source": [
    "list3[2] # indexing"
   ]
  },
  {
   "cell_type": "code",
   "execution_count": 179,
   "id": "131b9de2",
   "metadata": {},
   "outputs": [
    {
     "data": {
      "text/plain": [
       "['a', 2, 'b']"
      ]
     },
     "execution_count": 179,
     "metadata": {},
     "output_type": "execute_result"
    }
   ],
   "source": [
    "list3[1:4]"
   ]
  },
  {
   "cell_type": "code",
   "execution_count": 182,
   "id": "f0dec1b2",
   "metadata": {},
   "outputs": [
    {
     "data": {
      "text/plain": [
       "[1, 'e', 2, 'b', 3, 'c']"
      ]
     },
     "execution_count": 182,
     "metadata": {},
     "output_type": "execute_result"
    }
   ],
   "source": [
    "list3[1] = 'e'\n",
    "list3"
   ]
  },
  {
   "cell_type": "code",
   "execution_count": 185,
   "id": "1600eb14",
   "metadata": {},
   "outputs": [
    {
     "data": {
      "text/plain": [
       "[5, 3, 4, 1, 2]"
      ]
     },
     "execution_count": 185,
     "metadata": {},
     "output_type": "execute_result"
    }
   ],
   "source": [
    "list3 = []\n",
    "list3 += list1\n",
    "list3"
   ]
  },
  {
   "cell_type": "code",
   "execution_count": 186,
   "id": "f1f65fec",
   "metadata": {},
   "outputs": [
    {
     "data": {
      "text/plain": [
       "[5, 3, 4, 1, 2, 'a', 'b', 'c', 'd', 'e']"
      ]
     },
     "execution_count": 186,
     "metadata": {},
     "output_type": "execute_result"
    }
   ],
   "source": [
    "list3 = list1 + list2\n",
    "list3"
   ]
  },
  {
   "cell_type": "code",
   "execution_count": 188,
   "id": "2c5a0e8e",
   "metadata": {},
   "outputs": [
    {
     "name": "stderr",
     "output_type": "stream",
     "text": [
      "ic| elem: 1\n",
      "ic| elem: 2\n",
      "ic| elem: 'a'\n",
      "ic| elem: 'b'\n",
      "ic| elem: 'c'\n",
      "ic| elem: 'd'\n",
      "ic| elem: 'e'\n"
     ]
    }
   ],
   "source": [
    "for elem in list3[3:]:\n",
    "    ic(elem)"
   ]
  },
  {
   "cell_type": "code",
   "execution_count": 193,
   "id": "ee36bafb",
   "metadata": {},
   "outputs": [
    {
     "name": "stderr",
     "output_type": "stream",
     "text": [
      "ic| list3: [5, 3, 4, 1, 2]\n",
      "ic| list3: [9, 3, 4, 1, 2]\n"
     ]
    },
    {
     "data": {
      "text/plain": [
       "[9, 3, 4, 1, 2]"
      ]
     },
     "execution_count": 193,
     "metadata": {},
     "output_type": "execute_result"
    }
   ],
   "source": [
    "list3 = list1\n",
    "ic(list3)\n",
    "list3[0] = 9\n",
    "ic(list3)"
   ]
  },
  {
   "cell_type": "code",
   "execution_count": 194,
   "id": "0347cb5a",
   "metadata": {},
   "outputs": [
    {
     "name": "stderr",
     "output_type": "stream",
     "text": [
      "ic| list1: [9, 3, 4, 1, 2]\n",
      "ic| list3: [9, 3, 4, 1, 2]\n"
     ]
    },
    {
     "data": {
      "text/plain": [
       "[9, 3, 4, 1, 2]"
      ]
     },
     "execution_count": 194,
     "metadata": {},
     "output_type": "execute_result"
    }
   ],
   "source": [
    "ic(list1)\n",
    "ic(list3)"
   ]
  },
  {
   "cell_type": "code",
   "execution_count": 196,
   "id": "23897753",
   "metadata": {},
   "outputs": [
    {
     "name": "stderr",
     "output_type": "stream",
     "text": [
      "ic| list3: [9, 3, 4, 1, 2]\n",
      "ic| list1: [5, 3, 4, 1, 2]\n"
     ]
    },
    {
     "data": {
      "text/plain": [
       "[5, 3, 4, 1, 2]"
      ]
     },
     "execution_count": 196,
     "metadata": {},
     "output_type": "execute_result"
    }
   ],
   "source": [
    "list3 = list1.copy()\n",
    "list3[0] = 9\n",
    "ic(list3)\n",
    "ic(list1)"
   ]
  },
  {
   "cell_type": "code",
   "execution_count": 200,
   "id": "b0e2d811",
   "metadata": {},
   "outputs": [
    {
     "name": "stderr",
     "output_type": "stream",
     "text": [
      "ic| list4: ['a', 'b', 'c', 'd', 'e', 'f']\n"
     ]
    },
    {
     "data": {
      "text/plain": [
       "['a', 'b', 'c', 'd', 'e', 'f']"
      ]
     },
     "execution_count": 200,
     "metadata": {},
     "output_type": "execute_result"
    }
   ],
   "source": [
    "list4 = list2.copy()\n",
    "list4.append('f')\n",
    "ic(list4)"
   ]
  },
  {
   "cell_type": "code",
   "execution_count": 201,
   "id": "a24308da",
   "metadata": {},
   "outputs": [
    {
     "name": "stderr",
     "output_type": "stream",
     "text": [
      "ic| list4: ['a', 'b', 'c', 'd', 'e', 'f']\n"
     ]
    },
    {
     "data": {
      "text/plain": [
       "['a', 'b', 'c', 'd', 'e', 'f']"
      ]
     },
     "execution_count": 201,
     "metadata": {},
     "output_type": "execute_result"
    }
   ],
   "source": [
    "list4 = list2.copy()\n",
    "list4.extend('f')\n",
    "ic(list4)"
   ]
  },
  {
   "cell_type": "code",
   "execution_count": 207,
   "id": "a7d88d90",
   "metadata": {},
   "outputs": [
    {
     "name": "stderr",
     "output_type": "stream",
     "text": [
      "ic| list4: ['a', 'b', 'c', 'd', 'e', ['f', 'g', 'h']]\n"
     ]
    },
    {
     "data": {
      "text/plain": [
       "['a', 'b', 'c', 'd', 'e', ['f', 'g', 'h']]"
      ]
     },
     "execution_count": 207,
     "metadata": {},
     "output_type": "execute_result"
    }
   ],
   "source": [
    "list4 = list2.copy()\n",
    "list4.append(['f', 'g', 'h'])\n",
    "ic(list4)"
   ]
  },
  {
   "cell_type": "code",
   "execution_count": 210,
   "id": "1a58475d",
   "metadata": {},
   "outputs": [
    {
     "name": "stderr",
     "output_type": "stream",
     "text": [
      "ic| list4[5]: ['f', 'g', 'h']\n",
      "ic| len(list4[5]): 3\n"
     ]
    },
    {
     "data": {
      "text/plain": [
       "3"
      ]
     },
     "execution_count": 210,
     "metadata": {},
     "output_type": "execute_result"
    }
   ],
   "source": [
    "len(list4)\n",
    "ic(list4[5])\n",
    "ic(len(list4[5]))"
   ]
  },
  {
   "cell_type": "code",
   "execution_count": 203,
   "id": "5baee3e2",
   "metadata": {},
   "outputs": [
    {
     "name": "stderr",
     "output_type": "stream",
     "text": [
      "ic| list4: ['a', 'b', 'c', 'd', 'e', 'f', 'g', 'h']\n"
     ]
    },
    {
     "data": {
      "text/plain": [
       "['a', 'b', 'c', 'd', 'e', 'f', 'g', 'h']"
      ]
     },
     "execution_count": 203,
     "metadata": {},
     "output_type": "execute_result"
    }
   ],
   "source": [
    "list4 = list2.copy()\n",
    "list4.extend(['f', 'g', 'h'])\n",
    "ic(list4)"
   ]
  },
  {
   "cell_type": "code",
   "execution_count": 205,
   "id": "589a56f6",
   "metadata": {},
   "outputs": [
    {
     "name": "stderr",
     "output_type": "stream",
     "text": [
      "ic| list4: ['a', 'b', 'c', 'f', 'd', 'e']\n"
     ]
    },
    {
     "data": {
      "text/plain": [
       "['a', 'b', 'c', 'f', 'd', 'e']"
      ]
     },
     "execution_count": 205,
     "metadata": {},
     "output_type": "execute_result"
    }
   ],
   "source": [
    "list4 = list2.copy()\n",
    "list4.insert(3, 'f')\n",
    "ic(list4)"
   ]
  },
  {
   "cell_type": "code",
   "execution_count": 206,
   "id": "7a986e4a",
   "metadata": {},
   "outputs": [
    {
     "data": {
      "text/plain": [
       "6"
      ]
     },
     "execution_count": 206,
     "metadata": {},
     "output_type": "execute_result"
    }
   ],
   "source": [
    "len(list4)"
   ]
  },
  {
   "cell_type": "code",
   "execution_count": 211,
   "id": "852a3c0d",
   "metadata": {},
   "outputs": [
    {
     "data": {
      "text/plain": [
       "[5, 3, 4, 1, 2, 5, 3, 4, 1, 2, 5, 3, 4, 1, 2]"
      ]
     },
     "execution_count": 211,
     "metadata": {},
     "output_type": "execute_result"
    }
   ],
   "source": [
    "list1 * 3"
   ]
  },
  {
   "cell_type": "code",
   "execution_count": 212,
   "id": "b21e6c14",
   "metadata": {},
   "outputs": [
    {
     "ename": "TypeError",
     "evalue": "can't multiply sequence by non-int of type 'list'",
     "output_type": "error",
     "traceback": [
      "\u001b[1;31m---------------------------------------------------------------------------\u001b[0m",
      "\u001b[1;31mTypeError\u001b[0m                                 Traceback (most recent call last)",
      "\u001b[1;32m~\\AppData\\Local\\Temp/ipykernel_8816/4000225662.py\u001b[0m in \u001b[0;36m<module>\u001b[1;34m\u001b[0m\n\u001b[1;32m----> 1\u001b[1;33m \u001b[0mlist1\u001b[0m \u001b[1;33m*\u001b[0m \u001b[0mlist2\u001b[0m\u001b[1;33m\u001b[0m\u001b[1;33m\u001b[0m\u001b[0m\n\u001b[0m",
      "\u001b[1;31mTypeError\u001b[0m: can't multiply sequence by non-int of type 'list'"
     ]
    }
   ],
   "source": [
    "list1 * list2"
   ]
  },
  {
   "cell_type": "code",
   "execution_count": 216,
   "id": "107dd940",
   "metadata": {},
   "outputs": [
    {
     "name": "stderr",
     "output_type": "stream",
     "text": [
      "ic| ret: None\n",
      "ic| list4: ['a', 'b', 'd', 'e']\n"
     ]
    },
    {
     "data": {
      "text/plain": [
       "['a', 'b', 'd', 'e']"
      ]
     },
     "execution_count": 216,
     "metadata": {},
     "output_type": "execute_result"
    }
   ],
   "source": [
    "list4 = list2.copy()\n",
    "ret = list4.remove('c')\n",
    "ic(ret)\n",
    "ic(list4)"
   ]
  },
  {
   "cell_type": "code",
   "execution_count": 217,
   "id": "25ce4773",
   "metadata": {},
   "outputs": [
    {
     "name": "stderr",
     "output_type": "stream",
     "text": [
      "ic| ret: 'c'\n",
      "ic| list4: ['a', 'b', 'd', 'e']\n"
     ]
    },
    {
     "data": {
      "text/plain": [
       "['a', 'b', 'd', 'e']"
      ]
     },
     "execution_count": 217,
     "metadata": {},
     "output_type": "execute_result"
    }
   ],
   "source": [
    "list4 = list2.copy()\n",
    "ret = list4.pop(2)\n",
    "ic(ret)\n",
    "ic(list4)"
   ]
  },
  {
   "cell_type": "code",
   "execution_count": 221,
   "id": "1e8f130a",
   "metadata": {},
   "outputs": [
    {
     "name": "stderr",
     "output_type": "stream",
     "text": [
      "ic| list1: [5, 3, 4, 1, 2]\n",
      "ic| ret: None\n",
      "ic| list5: [1, 2, 3, 4, 5]\n"
     ]
    },
    {
     "data": {
      "text/plain": [
       "[1, 2, 3, 4, 5]"
      ]
     },
     "execution_count": 221,
     "metadata": {},
     "output_type": "execute_result"
    }
   ],
   "source": [
    "ic(list1)\n",
    "list5 = list1.copy()\n",
    "ret = list5.sort()\n",
    "ic(ret)\n",
    "ic(list5)"
   ]
  },
  {
   "cell_type": "code",
   "execution_count": 222,
   "id": "36d2cc39",
   "metadata": {},
   "outputs": [
    {
     "name": "stderr",
     "output_type": "stream",
     "text": [
      "ic| ret: [1, 2, 3, 4, 5]\n",
      "ic| list5: [5, 3, 4, 1, 2]\n"
     ]
    },
    {
     "data": {
      "text/plain": [
       "[5, 3, 4, 1, 2]"
      ]
     },
     "execution_count": 222,
     "metadata": {},
     "output_type": "execute_result"
    }
   ],
   "source": [
    "list5 = list1.copy()\n",
    "ret = sorted(list5)\n",
    "ic(ret)\n",
    "ic(list5)"
   ]
  },
  {
   "cell_type": "code",
   "execution_count": 223,
   "id": "3f8e12a5",
   "metadata": {},
   "outputs": [
    {
     "name": "stderr",
     "output_type": "stream",
     "text": [
      "ic| ret: None\n",
      "ic| list5: [2, 1, 4, 3, 5]\n"
     ]
    },
    {
     "data": {
      "text/plain": [
       "[2, 1, 4, 3, 5]"
      ]
     },
     "execution_count": 223,
     "metadata": {},
     "output_type": "execute_result"
    }
   ],
   "source": [
    "list5 = list1.copy()\n",
    "ret = list5.reverse()\n",
    "ic(ret)\n",
    "ic(list5)"
   ]
  },
  {
   "cell_type": "code",
   "execution_count": 225,
   "id": "90bdac8f",
   "metadata": {},
   "outputs": [
    {
     "name": "stderr",
     "output_type": "stream",
     "text": [
      "ic| list(ret): [2, 1, 4, 3, 5]\n",
      "ic| list5: [5, 3, 4, 1, 2]\n"
     ]
    },
    {
     "data": {
      "text/plain": [
       "[5, 3, 4, 1, 2]"
      ]
     },
     "execution_count": 225,
     "metadata": {},
     "output_type": "execute_result"
    }
   ],
   "source": [
    "list5 = list1.copy()\n",
    "ret = reversed(list5)\n",
    "ic(list(ret))\n",
    "ic(list5)"
   ]
  },
  {
   "cell_type": "code",
   "execution_count": 226,
   "id": "02506b44",
   "metadata": {},
   "outputs": [
    {
     "name": "stderr",
     "output_type": "stream",
     "text": [
      "ic| list5: []\n"
     ]
    },
    {
     "data": {
      "text/plain": [
       "[]"
      ]
     },
     "execution_count": 226,
     "metadata": {},
     "output_type": "execute_result"
    }
   ],
   "source": [
    "list5 = list1.copy()\n",
    "list5.clear()\n",
    "# list5 = []\n",
    "ic(list5)"
   ]
  },
  {
   "cell_type": "markdown",
   "id": "16170c66",
   "metadata": {},
   "source": [
    "### 6.Tuple"
   ]
  },
  {
   "cell_type": "code",
   "execution_count": 227,
   "id": "dfe24682",
   "metadata": {},
   "outputs": [
    {
     "name": "stderr",
     "output_type": "stream",
     "text": [
      "ic| tuple1: (5, 2, 1, 2, 4)\n"
     ]
    },
    {
     "data": {
      "text/plain": [
       "(5, 2, 1, 2, 4)"
      ]
     },
     "execution_count": 227,
     "metadata": {},
     "output_type": "execute_result"
    }
   ],
   "source": [
    "tuple1 = (5,2,1,2,4)\n",
    "ic(tuple1)"
   ]
  },
  {
   "cell_type": "code",
   "execution_count": 228,
   "id": "6e79ff60",
   "metadata": {},
   "outputs": [
    {
     "data": {
      "text/plain": [
       "2"
      ]
     },
     "execution_count": 228,
     "metadata": {},
     "output_type": "execute_result"
    }
   ],
   "source": [
    "tuple1[1]"
   ]
  },
  {
   "cell_type": "code",
   "execution_count": 230,
   "id": "7864c026",
   "metadata": {},
   "outputs": [
    {
     "name": "stderr",
     "output_type": "stream",
     "text": [
      "ic| tuple3: (5, 2, 1, 2, 4, 'a', 'b', 'c', 'd', 'e')\n"
     ]
    },
    {
     "data": {
      "text/plain": [
       "(5, 2, 1, 2, 4, 'a', 'b', 'c', 'd', 'e')"
      ]
     },
     "execution_count": 230,
     "metadata": {},
     "output_type": "execute_result"
    }
   ],
   "source": [
    "tuple2 = ('a', 'b', 'c', 'd', 'e')\n",
    "tuple3 = tuple1 + tuple2\n",
    "ic(tuple3)"
   ]
  },
  {
   "cell_type": "code",
   "execution_count": 231,
   "id": "a26c11b5",
   "metadata": {},
   "outputs": [
    {
     "data": {
      "text/plain": [
       "10"
      ]
     },
     "execution_count": 231,
     "metadata": {},
     "output_type": "execute_result"
    }
   ],
   "source": [
    "len(tuple3)"
   ]
  },
  {
   "cell_type": "code",
   "execution_count": 232,
   "id": "7e75c70e",
   "metadata": {},
   "outputs": [
    {
     "ename": "TypeError",
     "evalue": "'tuple' object does not support item assignment",
     "output_type": "error",
     "traceback": [
      "\u001b[1;31m---------------------------------------------------------------------------\u001b[0m",
      "\u001b[1;31mTypeError\u001b[0m                                 Traceback (most recent call last)",
      "\u001b[1;32m~\\AppData\\Local\\Temp/ipykernel_8816/46389267.py\u001b[0m in \u001b[0;36m<module>\u001b[1;34m\u001b[0m\n\u001b[1;32m----> 1\u001b[1;33m \u001b[0mtuple1\u001b[0m\u001b[1;33m[\u001b[0m\u001b[1;36m3\u001b[0m\u001b[1;33m]\u001b[0m \u001b[1;33m=\u001b[0m \u001b[1;36m9\u001b[0m\u001b[1;33m\u001b[0m\u001b[1;33m\u001b[0m\u001b[0m\n\u001b[0m",
      "\u001b[1;31mTypeError\u001b[0m: 'tuple' object does not support item assignment"
     ]
    }
   ],
   "source": [
    "tuple1[3] = 9"
   ]
  },
  {
   "cell_type": "markdown",
   "id": "e0f98da5",
   "metadata": {},
   "source": [
    "### 7.Dictionary"
   ]
  },
  {
   "cell_type": "code",
   "execution_count": 7,
   "id": "f050face",
   "metadata": {},
   "outputs": [
    {
     "data": {
      "text/plain": [
       "{'name': 'Elias Kim', 'age': 22, 'location': 'Seoul'}"
      ]
     },
     "execution_count": 7,
     "metadata": {},
     "output_type": "execute_result"
    }
   ],
   "source": [
    "dic = {'name':'Elias Kim', 'age':22, 'location':'Seoul'} # 초기화\n",
    "dic"
   ]
  },
  {
   "cell_type": "code",
   "execution_count": 10,
   "id": "2f8ad800",
   "metadata": {},
   "outputs": [
    {
     "name": "stderr",
     "output_type": "stream",
     "text": [
      "ic| 'No Address'\n"
     ]
    }
   ],
   "source": [
    "# if 'address' in dic:\n",
    "if 'address' in dic.keys():\n",
    "    ic(dic['address'])\n",
    "else:\n",
    "    ic('No Address')"
   ]
  },
  {
   "cell_type": "code",
   "execution_count": 235,
   "id": "38493ccb",
   "metadata": {},
   "outputs": [
    {
     "data": {
      "text/plain": [
       "'Elias Kim'"
      ]
     },
     "execution_count": 235,
     "metadata": {},
     "output_type": "execute_result"
    }
   ],
   "source": [
    "dic.get('name')"
   ]
  },
  {
   "cell_type": "code",
   "execution_count": 236,
   "id": "3db14c9e",
   "metadata": {},
   "outputs": [
    {
     "data": {
      "text/plain": [
       "'Elias Kim'"
      ]
     },
     "execution_count": 236,
     "metadata": {},
     "output_type": "execute_result"
    }
   ],
   "source": [
    "dic['name']"
   ]
  },
  {
   "cell_type": "code",
   "execution_count": 238,
   "id": "d6ad584e",
   "metadata": {},
   "outputs": [
    {
     "name": "stderr",
     "output_type": "stream",
     "text": [
      "ic| dic: {'age': 40, 'location': 'Seoul', 'name': 'Elias Kim'}\n"
     ]
    },
    {
     "data": {
      "text/plain": [
       "{'name': 'Elias Kim', 'age': 40, 'location': 'Seoul'}"
      ]
     },
     "execution_count": 238,
     "metadata": {},
     "output_type": "execute_result"
    }
   ],
   "source": [
    "dic['age'] = 40\n",
    "ic(dic)"
   ]
  },
  {
   "cell_type": "code",
   "execution_count": 239,
   "id": "be3b147f",
   "metadata": {},
   "outputs": [
    {
     "name": "stderr",
     "output_type": "stream",
     "text": [
      "ic| dic2: {'age': 40, 'location': 'Seoul', 'name': 'HongGilDong'}\n"
     ]
    },
    {
     "data": {
      "text/plain": [
       "{'name': 'HongGilDong', 'age': 40, 'location': 'Seoul'}"
      ]
     },
     "execution_count": 239,
     "metadata": {},
     "output_type": "execute_result"
    }
   ],
   "source": [
    "dic2 = dic.copy()\n",
    "dic2.update({'name':'HongGilDong', 'age':40})\n",
    "ic(dic2)"
   ]
  },
  {
   "cell_type": "code",
   "execution_count": 240,
   "id": "7b7aaf06",
   "metadata": {},
   "outputs": [
    {
     "name": "stderr",
     "output_type": "stream",
     "text": [
      "ic| dic: {'age': 40,\n",
      "          'company': 'LG Electornics',\n",
      "          'location': 'Seoul',\n",
      "          'name': 'Elias Kim'}\n"
     ]
    },
    {
     "data": {
      "text/plain": [
       "{'name': 'Elias Kim',\n",
       " 'age': 40,\n",
       " 'location': 'Seoul',\n",
       " 'company': 'LG Electornics'}"
      ]
     },
     "execution_count": 240,
     "metadata": {},
     "output_type": "execute_result"
    }
   ],
   "source": [
    "dic['company'] = 'LG Electornics'\n",
    "ic(dic)"
   ]
  },
  {
   "cell_type": "code",
   "execution_count": 241,
   "id": "ccfd159d",
   "metadata": {},
   "outputs": [
    {
     "name": "stderr",
     "output_type": "stream",
     "text": [
      "ic| dic: {'age': 40, 'location': 'Seoul', 'name': 'Elias Kim'}\n"
     ]
    },
    {
     "data": {
      "text/plain": [
       "{'name': 'Elias Kim', 'age': 40, 'location': 'Seoul'}"
      ]
     },
     "execution_count": 241,
     "metadata": {},
     "output_type": "execute_result"
    }
   ],
   "source": [
    "del dic['company']\n",
    "ic(dic)"
   ]
  },
  {
   "cell_type": "code",
   "execution_count": 242,
   "id": "d025b8ed",
   "metadata": {},
   "outputs": [
    {
     "name": "stderr",
     "output_type": "stream",
     "text": [
      "ic| value: 'Elias Kim'\n",
      "ic| value: 40\n",
      "ic| value: 'Seoul'\n"
     ]
    }
   ],
   "source": [
    "for value in dic.values():\n",
    "    ic(value)"
   ]
  },
  {
   "cell_type": "code",
   "execution_count": 243,
   "id": "b5835c13",
   "metadata": {},
   "outputs": [
    {
     "name": "stderr",
     "output_type": "stream",
     "text": [
      "ic| key: 'name'\n",
      "ic| key: 'age'\n",
      "ic| key: 'location'\n"
     ]
    }
   ],
   "source": [
    "for key in dic.keys():\n",
    "    ic(key)"
   ]
  },
  {
   "cell_type": "code",
   "execution_count": 244,
   "id": "885b7f81",
   "metadata": {},
   "outputs": [
    {
     "name": "stdout",
     "output_type": "stream",
     "text": [
      "('name', 'Elias Kim')\n",
      "('age', 40)\n",
      "('location', 'Seoul')\n"
     ]
    }
   ],
   "source": [
    "for item in dic.items():\n",
    "    print(item)"
   ]
  },
  {
   "cell_type": "code",
   "execution_count": 247,
   "id": "553152de",
   "metadata": {},
   "outputs": [
    {
     "name": "stderr",
     "output_type": "stream",
     "text": [
      "ic| f'{key}:{value}': 'name:Elias Kim'\n",
      "ic| f'{key}:{value}': 'age:40'\n",
      "ic| f'{key}:{value}': 'location:Seoul'\n"
     ]
    }
   ],
   "source": [
    "for key, value in dic.items(): # (key, value) tuple\n",
    "    ic(f'{key}:{value}')"
   ]
  },
  {
   "cell_type": "code",
   "execution_count": null,
   "id": "e6344655",
   "metadata": {},
   "outputs": [],
   "source": [
    "ic(dic['address'])"
   ]
  },
  {
   "cell_type": "code",
   "execution_count": 248,
   "id": "c7480d35",
   "metadata": {},
   "outputs": [
    {
     "name": "stderr",
     "output_type": "stream",
     "text": [
      "ic| dic: {}\n"
     ]
    },
    {
     "data": {
      "text/plain": [
       "{}"
      ]
     },
     "execution_count": 248,
     "metadata": {},
     "output_type": "execute_result"
    }
   ],
   "source": [
    "dic.clear()\n",
    "dic = {}\n",
    "ic(dic)"
   ]
  },
  {
   "cell_type": "markdown",
   "id": "1fc09ca9",
   "metadata": {},
   "source": [
    "### 8.Set"
   ]
  },
  {
   "cell_type": "code",
   "execution_count": 12,
   "id": "6fbb5a26",
   "metadata": {},
   "outputs": [
    {
     "name": "stdout",
     "output_type": "stream",
     "text": [
      "{1, 2, 3, 4, 5, 6}\n",
      "{1, 2, 3, 4, 5, 6}\n"
     ]
    }
   ],
   "source": [
    "_list = [1,2,3,4,4,5,5,6,6]\n",
    "_tuple = (1,2,3,4,4,5,5,6,6)\n",
    "\n",
    "# _list = list(set(_list))\n",
    "# ic(_list)\n",
    "print(set(_list))\n",
    "print(set(_tuple))"
   ]
  },
  {
   "cell_type": "code",
   "execution_count": 252,
   "id": "317c60b4",
   "metadata": {},
   "outputs": [
    {
     "data": {
      "text/plain": [
       "[1, 2, 3, 4, 5, 6]"
      ]
     },
     "execution_count": 252,
     "metadata": {},
     "output_type": "execute_result"
    }
   ],
   "source": [
    "_set = set(_list)\n",
    "list(_set)"
   ]
  },
  {
   "cell_type": "code",
   "execution_count": 253,
   "id": "f7ed5d6f",
   "metadata": {},
   "outputs": [
    {
     "data": {
      "text/plain": [
       "{'a': 'a'}"
      ]
     },
     "execution_count": 253,
     "metadata": {},
     "output_type": "execute_result"
    }
   ],
   "source": [
    "temp = {} # dictionary\n",
    "temp['a'] = 'a'\n",
    "temp"
   ]
  },
  {
   "cell_type": "code",
   "execution_count": 254,
   "id": "7769c493",
   "metadata": {},
   "outputs": [
    {
     "name": "stdout",
     "output_type": "stream",
     "text": [
      "{1, 2, 3, 4, 5, 6}\n"
     ]
    },
    {
     "data": {
      "text/plain": [
       "{1, 2, 3, 4, 5, 6, 7}"
      ]
     },
     "execution_count": 254,
     "metadata": {},
     "output_type": "execute_result"
    }
   ],
   "source": [
    "_set = set(_list)\n",
    "print(_set)\n",
    "_set.add(7)\n",
    "_set"
   ]
  },
  {
   "cell_type": "code",
   "execution_count": 255,
   "id": "a071f678",
   "metadata": {},
   "outputs": [
    {
     "name": "stdout",
     "output_type": "stream",
     "text": [
      "{1, 2, 3, 4, 5, 6}\n"
     ]
    },
    {
     "data": {
      "text/plain": [
       "{1, 2, 3, 4, 5, 6, 7, 8, 9}"
      ]
     },
     "execution_count": 255,
     "metadata": {},
     "output_type": "execute_result"
    }
   ],
   "source": [
    "_set = set(_list)\n",
    "print(_set)\n",
    "_set.update([7,8,9])\n",
    "_set"
   ]
  },
  {
   "cell_type": "code",
   "execution_count": 256,
   "id": "420a5ea6",
   "metadata": {},
   "outputs": [
    {
     "name": "stdout",
     "output_type": "stream",
     "text": [
      "{1, 2, 3, 4, 5, 6}\n"
     ]
    },
    {
     "data": {
      "text/plain": [
       "{1, 2, 3, 4, 6}"
      ]
     },
     "execution_count": 256,
     "metadata": {},
     "output_type": "execute_result"
    }
   ],
   "source": [
    "_set = set(_list)\n",
    "print(_set)\n",
    "_set.remove(5)\n",
    "_set"
   ]
  },
  {
   "cell_type": "code",
   "execution_count": 258,
   "id": "c536ac16",
   "metadata": {},
   "outputs": [
    {
     "name": "stderr",
     "output_type": "stream",
     "text": [
      "ic| set1 & set2: {2}\n",
      "ic| set1.intersection(set2): {2}\n",
      "ic| set1 | set2: {1, 2, 3, 4, 5, 6}\n",
      "ic| set1.union(set2): {1, 2, 3, 4, 5, 6}\n",
      "ic| set1 - set2: {1, 3}\n",
      "ic| set1.difference(set2): {1, 3}\n",
      "ic| set2.difference(set1): {4, 5, 6}\n",
      "ic| set1 ^ set2: {1, 3, 4, 5, 6}\n"
     ]
    },
    {
     "data": {
      "text/plain": [
       "{1, 3, 4, 5, 6}"
      ]
     },
     "execution_count": 258,
     "metadata": {},
     "output_type": "execute_result"
    }
   ],
   "source": [
    "set1 = set([1,2,3])\n",
    "set2 = set([2,4,5,6])\n",
    "\n",
    "# 교집합\n",
    "ic(set1 & set2)\n",
    "ic(set1.intersection(set2))\n",
    "\n",
    "# 합집합\n",
    "ic(set1 | set2)\n",
    "ic(set1.union(set2))\n",
    "\n",
    "# 차집합\n",
    "ic(set1 - set2)\n",
    "ic(set1.difference(set2))\n",
    "ic(set2.difference(set1))\n",
    "\n",
    "# 대칭차집합 (합집합 - 교집합)\n",
    "ic(set1 ^ set2)"
   ]
  },
  {
   "cell_type": "markdown",
   "id": "e72ef57c",
   "metadata": {},
   "source": [
    "### 9.Function"
   ]
  },
  {
   "cell_type": "code",
   "execution_count": 259,
   "id": "76b3be9f",
   "metadata": {},
   "outputs": [],
   "source": [
    "def func_add(a, b):\n",
    "    c = a+b\n",
    "    return c"
   ]
  },
  {
   "cell_type": "code",
   "execution_count": 260,
   "id": "481d2758",
   "metadata": {},
   "outputs": [
    {
     "data": {
      "text/plain": [
       "30"
      ]
     },
     "execution_count": 260,
     "metadata": {},
     "output_type": "execute_result"
    }
   ],
   "source": [
    "func_add(10, 20)"
   ]
  },
  {
   "cell_type": "code",
   "execution_count": 268,
   "id": "e13ca29b",
   "metadata": {},
   "outputs": [],
   "source": [
    "def person_info(name, age=22, address='seoul'):\n",
    "    print('Name:', name)\n",
    "    print('Age:', age)\n",
    "    print('Address:', address)"
   ]
  },
  {
   "cell_type": "code",
   "execution_count": 269,
   "id": "59f9c68c",
   "metadata": {},
   "outputs": [
    {
     "name": "stdout",
     "output_type": "stream",
     "text": [
      "Name: Elias\n",
      "Age: 20\n",
      "Address: seoul\n"
     ]
    }
   ],
   "source": [
    "person_info('Elias', 20)"
   ]
  },
  {
   "cell_type": "code",
   "execution_count": 270,
   "id": "0dff3256",
   "metadata": {},
   "outputs": [],
   "source": [
    "def multi_return(a, b):\n",
    "    return a+b, a-b, a*b, a/b"
   ]
  },
  {
   "cell_type": "code",
   "execution_count": 271,
   "id": "20ee5233",
   "metadata": {},
   "outputs": [
    {
     "data": {
      "text/plain": [
       "(30, -10, 200, 0.5)"
      ]
     },
     "execution_count": 271,
     "metadata": {},
     "output_type": "execute_result"
    }
   ],
   "source": [
    "multi_return(10, 20)"
   ]
  },
  {
   "cell_type": "code",
   "execution_count": 272,
   "id": "e6539f57",
   "metadata": {},
   "outputs": [
    {
     "name": "stderr",
     "output_type": "stream",
     "text": [
      "ic| sum: 12\n",
      "ic| minus: 8\n",
      "ic| multi: 20\n",
      "ic| devide: 5.0\n"
     ]
    },
    {
     "data": {
      "text/plain": [
       "5.0"
      ]
     },
     "execution_count": 272,
     "metadata": {},
     "output_type": "execute_result"
    }
   ],
   "source": [
    "sum, minus, multi, devide = multi_return(10, 2)\n",
    "ic(sum)\n",
    "ic(minus)\n",
    "ic(multi)\n",
    "ic(devide)"
   ]
  },
  {
   "cell_type": "code",
   "execution_count": 274,
   "id": "8543bb9d",
   "metadata": {},
   "outputs": [
    {
     "name": "stderr",
     "output_type": "stream",
     "text": [
      "ic| sum: 12\n",
      "ic| multi: 20\n"
     ]
    },
    {
     "data": {
      "text/plain": [
       "20"
      ]
     },
     "execution_count": 274,
     "metadata": {},
     "output_type": "execute_result"
    }
   ],
   "source": [
    "sum, _, multi, _ = multi_return(10, 2)\n",
    "ic(sum)\n",
    "ic(multi)"
   ]
  }
 ],
 "metadata": {
  "kernelspec": {
   "display_name": "Python 3 (ipykernel)",
   "language": "python",
   "name": "python3"
  },
  "language_info": {
   "codemirror_mode": {
    "name": "ipython",
    "version": 3
   },
   "file_extension": ".py",
   "mimetype": "text/x-python",
   "name": "python",
   "nbconvert_exporter": "python",
   "pygments_lexer": "ipython3",
   "version": "3.8.5"
  }
 },
 "nbformat": 4,
 "nbformat_minor": 5
}
