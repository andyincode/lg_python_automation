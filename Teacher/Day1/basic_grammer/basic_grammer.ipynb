{
 "cells": [
  {
   "cell_type": "markdown",
   "id": "324cf06b",
   "metadata": {},
   "source": [
    "### Quotation in Python"
   ]
  },
  {
   "cell_type": "code",
   "execution_count": 7,
   "id": "c5fec1e7",
   "metadata": {},
   "outputs": [
    {
     "data": {
      "text/plain": [
       "'HelloWorld'"
      ]
     },
     "execution_count": 7,
     "metadata": {},
     "output_type": "execute_result"
    }
   ],
   "source": [
    "string = 'HelloWorld'\n",
    "string"
   ]
  },
  {
   "cell_type": "code",
   "execution_count": 8,
   "id": "ae59b373",
   "metadata": {},
   "outputs": [
    {
     "name": "stdout",
     "output_type": "stream",
     "text": [
      "HelloWorld\n"
     ]
    }
   ],
   "source": [
    "string = \"HelloWorld\"\n",
    "print(string)"
   ]
  },
  {
   "cell_type": "code",
   "execution_count": 9,
   "id": "60c8ced4",
   "metadata": {},
   "outputs": [
    {
     "data": {
      "text/plain": [
       "'HelloWorld'"
      ]
     },
     "execution_count": 9,
     "metadata": {},
     "output_type": "execute_result"
    }
   ],
   "source": [
    "string = '''HelloWorld'''\n",
    "string"
   ]
  },
  {
   "cell_type": "code",
   "execution_count": 10,
   "id": "137b5e77",
   "metadata": {},
   "outputs": [
    {
     "data": {
      "text/plain": [
       "'helloworld'"
      ]
     },
     "execution_count": 10,
     "metadata": {},
     "output_type": "execute_result"
    }
   ],
   "source": [
    "string = \"hello\\\n",
    "world\"\n",
    "string"
   ]
  },
  {
   "cell_type": "code",
   "execution_count": 11,
   "id": "5b3efd91",
   "metadata": {},
   "outputs": [
    {
     "ename": "SyntaxError",
     "evalue": "EOL while scanning string literal (Temp/ipykernel_8816/1871184050.py, line 1)",
     "output_type": "error",
     "traceback": [
      "\u001b[1;36m  File \u001b[1;32m\"C:\\Users\\elias\\AppData\\Local\\Temp/ipykernel_8816/1871184050.py\"\u001b[1;36m, line \u001b[1;32m1\u001b[0m\n\u001b[1;33m    string = \"Hello\u001b[0m\n\u001b[1;37m                   ^\u001b[0m\n\u001b[1;31mSyntaxError\u001b[0m\u001b[1;31m:\u001b[0m EOL while scanning string literal\n"
     ]
    }
   ],
   "source": [
    "string = \"Hello\n",
    "world\"\n",
    "string"
   ]
  },
  {
   "cell_type": "code",
   "execution_count": 12,
   "id": "563c728b",
   "metadata": {},
   "outputs": [
    {
     "ename": "SyntaxError",
     "evalue": "EOL while scanning string literal (Temp/ipykernel_8816/2390693113.py, line 1)",
     "output_type": "error",
     "traceback": [
      "\u001b[1;36m  File \u001b[1;32m\"C:\\Users\\elias\\AppData\\Local\\Temp/ipykernel_8816/2390693113.py\"\u001b[1;36m, line \u001b[1;32m1\u001b[0m\n\u001b[1;33m    string = 'Hello\u001b[0m\n\u001b[1;37m                   ^\u001b[0m\n\u001b[1;31mSyntaxError\u001b[0m\u001b[1;31m:\u001b[0m EOL while scanning string literal\n"
     ]
    }
   ],
   "source": [
    "string = 'Hello\n",
    "world'\n",
    "string"
   ]
  },
  {
   "cell_type": "code",
   "execution_count": 13,
   "id": "a62641a0",
   "metadata": {},
   "outputs": [
    {
     "name": "stdout",
     "output_type": "stream",
     "text": [
      "Hello\n",
      "World\n",
      "\n"
     ]
    }
   ],
   "source": [
    "string = '''Hello\n",
    "World\n",
    "'''\n",
    "string\n",
    "print(string)"
   ]
  },
  {
   "cell_type": "code",
   "execution_count": 14,
   "id": "bccb66d7",
   "metadata": {},
   "outputs": [
    {
     "name": "stdout",
     "output_type": "stream",
     "text": [
      "select * from where name = \"elias.kim\"\n"
     ]
    }
   ],
   "source": [
    "string = 'select * from where name = \"elias.kim\"'\n",
    "print(string)"
   ]
  },
  {
   "cell_type": "code",
   "execution_count": 15,
   "id": "16de82e3",
   "metadata": {},
   "outputs": [
    {
     "name": "stdout",
     "output_type": "stream",
     "text": [
      "<a href=\"http://naver.com\">Naver</a>\n"
     ]
    }
   ],
   "source": [
    "html = '<a href=\"http://naver.com\">Naver</a>'\n",
    "print(html)"
   ]
  },
  {
   "cell_type": "code",
   "execution_count": 16,
   "id": "29340d13",
   "metadata": {},
   "outputs": [
    {
     "name": "stdout",
     "output_type": "stream",
     "text": [
      "'HelloWorld'\n"
     ]
    }
   ],
   "source": [
    "string = '\\'HelloWorld\\''\n",
    "string\n",
    "print(string)"
   ]
  },
  {
   "cell_type": "code",
   "execution_count": 17,
   "id": "e38b0305",
   "metadata": {},
   "outputs": [
    {
     "name": "stdout",
     "output_type": "stream",
     "text": [
      "\"HelloWorld\"\n"
     ]
    }
   ],
   "source": [
    "string = '\"HelloWorld\"'\n",
    "string\n",
    "print(string)"
   ]
  },
  {
   "cell_type": "code",
   "execution_count": 18,
   "id": "8ad0702f",
   "metadata": {},
   "outputs": [
    {
     "name": "stdout",
     "output_type": "stream",
     "text": [
      "\"HelloWorld\"\n"
     ]
    }
   ],
   "source": [
    "string = \"\\\"HelloWorld\\\"\"\n",
    "string\n",
    "print(string)"
   ]
  },
  {
   "cell_type": "markdown",
   "id": "cfa41849",
   "metadata": {},
   "source": [
    "### Comments in python"
   ]
  },
  {
   "cell_type": "code",
   "execution_count": 19,
   "id": "7a6dda3b",
   "metadata": {},
   "outputs": [],
   "source": [
    "# This is comment\n",
    "# fdjskla\n",
    "# fdjkslfdjskla"
   ]
  },
  {
   "cell_type": "code",
   "execution_count": 20,
   "id": "b6c4b46a",
   "metadata": {},
   "outputs": [
    {
     "data": {
      "text/plain": [
       "10"
      ]
     },
     "execution_count": 20,
     "metadata": {},
     "output_type": "execute_result"
    }
   ],
   "source": [
    "a = 10\n",
    "'''This\n",
    "is\n",
    "multiline\n",
    "comments'''\n",
    "a"
   ]
  },
  {
   "cell_type": "markdown",
   "id": "59ba119d",
   "metadata": {},
   "source": [
    "### Standard Data Types"
   ]
  },
  {
   "cell_type": "markdown",
   "id": "f6274d07",
   "metadata": {},
   "source": [
    "#### 1.Boolean"
   ]
  },
  {
   "cell_type": "code",
   "execution_count": 21,
   "id": "fcf76709",
   "metadata": {},
   "outputs": [
    {
     "name": "stdout",
     "output_type": "stream",
     "text": [
      "False\n"
     ]
    },
    {
     "data": {
      "text/plain": [
       "bool"
      ]
     },
     "execution_count": 21,
     "metadata": {},
     "output_type": "execute_result"
    }
   ],
   "source": [
    "a = (10 == 20)\n",
    "print(a)\n",
    "type(a)"
   ]
  },
  {
   "cell_type": "code",
   "execution_count": 22,
   "id": "02ad3b12",
   "metadata": {},
   "outputs": [
    {
     "data": {
      "text/plain": [
       "True"
      ]
     },
     "execution_count": 22,
     "metadata": {},
     "output_type": "execute_result"
    }
   ],
   "source": [
    "a = ('abc' != 'def')\n",
    "a"
   ]
  },
  {
   "cell_type": "code",
   "execution_count": 23,
   "id": "50c7d275",
   "metadata": {},
   "outputs": [
    {
     "data": {
      "text/plain": [
       "2"
      ]
     },
     "execution_count": 23,
     "metadata": {},
     "output_type": "execute_result"
    }
   ],
   "source": [
    "True + True"
   ]
  },
  {
   "cell_type": "code",
   "execution_count": 24,
   "id": "74a9e984",
   "metadata": {},
   "outputs": [
    {
     "data": {
      "text/plain": [
       "0"
      ]
     },
     "execution_count": 24,
     "metadata": {},
     "output_type": "execute_result"
    }
   ],
   "source": [
    "True * False"
   ]
  },
  {
   "cell_type": "code",
   "execution_count": 25,
   "id": "204e29af",
   "metadata": {},
   "outputs": [
    {
     "ename": "ZeroDivisionError",
     "evalue": "division by zero",
     "output_type": "error",
     "traceback": [
      "\u001b[1;31m---------------------------------------------------------------------------\u001b[0m",
      "\u001b[1;31mZeroDivisionError\u001b[0m                         Traceback (most recent call last)",
      "\u001b[1;32m~\\AppData\\Local\\Temp/ipykernel_8816/2794436645.py\u001b[0m in \u001b[0;36m<module>\u001b[1;34m\u001b[0m\n\u001b[1;32m----> 1\u001b[1;33m \u001b[1;32mTrue\u001b[0m\u001b[1;33m/\u001b[0m\u001b[1;32mFalse\u001b[0m\u001b[1;33m\u001b[0m\u001b[1;33m\u001b[0m\u001b[0m\n\u001b[0m",
      "\u001b[1;31mZeroDivisionError\u001b[0m: division by zero"
     ]
    }
   ],
   "source": [
    "True/False"
   ]
  },
  {
   "cell_type": "markdown",
   "id": "b4f04538",
   "metadata": {},
   "source": [
    "#### 2. Numbers"
   ]
  },
  {
   "cell_type": "code",
   "execution_count": 26,
   "id": "9aa57a05",
   "metadata": {},
   "outputs": [
    {
     "name": "stdout",
     "output_type": "stream",
     "text": [
      "100\n"
     ]
    },
    {
     "data": {
      "text/plain": [
       "int"
      ]
     },
     "execution_count": 26,
     "metadata": {},
     "output_type": "execute_result"
    }
   ],
   "source": [
    "a = 100\n",
    "print(a)\n",
    "type(a)"
   ]
  },
  {
   "cell_type": "code",
   "execution_count": 27,
   "id": "2b44502e",
   "metadata": {},
   "outputs": [
    {
     "name": "stdout",
     "output_type": "stream",
     "text": [
      "100.0\n"
     ]
    },
    {
     "data": {
      "text/plain": [
       "float"
      ]
     },
     "execution_count": 27,
     "metadata": {},
     "output_type": "execute_result"
    }
   ],
   "source": [
    "a = 100.0\n",
    "print(a)\n",
    "type(a)"
   ]
  },
  {
   "cell_type": "code",
   "execution_count": 28,
   "id": "08fba779",
   "metadata": {},
   "outputs": [
    {
     "name": "stdout",
     "output_type": "stream",
     "text": [
      "100\n"
     ]
    },
    {
     "data": {
      "text/plain": [
       "int"
      ]
     },
     "execution_count": 28,
     "metadata": {},
     "output_type": "execute_result"
    }
   ],
   "source": [
    "b = int(a)\n",
    "print(b)\n",
    "type(b)"
   ]
  },
  {
   "cell_type": "code",
   "execution_count": 29,
   "id": "f78232d7",
   "metadata": {},
   "outputs": [
    {
     "name": "stdout",
     "output_type": "stream",
     "text": [
      "c: 100.0\n"
     ]
    },
    {
     "ename": "NameError",
     "evalue": "name 'ic' is not defined",
     "output_type": "error",
     "traceback": [
      "\u001b[1;31m---------------------------------------------------------------------------\u001b[0m",
      "\u001b[1;31mNameError\u001b[0m                                 Traceback (most recent call last)",
      "\u001b[1;32m~\\AppData\\Local\\Temp/ipykernel_8816/245136368.py\u001b[0m in \u001b[0;36m<module>\u001b[1;34m\u001b[0m\n\u001b[0;32m      1\u001b[0m \u001b[0mc\u001b[0m \u001b[1;33m=\u001b[0m \u001b[0mfloat\u001b[0m\u001b[1;33m(\u001b[0m\u001b[0mb\u001b[0m\u001b[1;33m)\u001b[0m\u001b[1;33m\u001b[0m\u001b[1;33m\u001b[0m\u001b[0m\n\u001b[0;32m      2\u001b[0m \u001b[0mprint\u001b[0m\u001b[1;33m(\u001b[0m\u001b[1;34m'c:'\u001b[0m\u001b[1;33m,\u001b[0m \u001b[0mc\u001b[0m\u001b[1;33m)\u001b[0m\u001b[1;33m\u001b[0m\u001b[1;33m\u001b[0m\u001b[0m\n\u001b[1;32m----> 3\u001b[1;33m \u001b[0mic\u001b[0m\u001b[1;33m(\u001b[0m\u001b[0mc\u001b[0m\u001b[1;33m)\u001b[0m\u001b[1;33m\u001b[0m\u001b[1;33m\u001b[0m\u001b[0m\n\u001b[0m\u001b[0;32m      4\u001b[0m \u001b[0mtype\u001b[0m\u001b[1;33m(\u001b[0m\u001b[0mc\u001b[0m\u001b[1;33m)\u001b[0m\u001b[1;33m\u001b[0m\u001b[1;33m\u001b[0m\u001b[0m\n",
      "\u001b[1;31mNameError\u001b[0m: name 'ic' is not defined"
     ]
    }
   ],
   "source": [
    "c = float(b)\n",
    "print('c:', c)\n",
    "ic(c)\n",
    "type(c)"
   ]
  },
  {
   "cell_type": "code",
   "execution_count": 30,
   "id": "f4eda73e",
   "metadata": {},
   "outputs": [
    {
     "name": "stdout",
     "output_type": "stream",
     "text": [
      "Requirement already satisfied: icecream in d:\\source\\lg_python_automation\\venv\\lib\\site-packages (2.1.1)\n",
      "Requirement already satisfied: pygments>=2.2.0 in d:\\source\\lg_python_automation\\venv\\lib\\site-packages (from icecream) (2.10.0)\n",
      "Requirement already satisfied: asttokens>=2.0.1 in d:\\source\\lg_python_automation\\venv\\lib\\site-packages (from icecream) (2.0.5)\n",
      "Requirement already satisfied: colorama>=0.3.9 in d:\\source\\lg_python_automation\\venv\\lib\\site-packages (from icecream) (0.4.4)\n",
      "Requirement already satisfied: executing>=0.3.1 in d:\\source\\lg_python_automation\\venv\\lib\\site-packages (from icecream) (0.8.0)\n",
      "Requirement already satisfied: six in d:\\source\\lg_python_automation\\venv\\lib\\site-packages (from asttokens>=2.0.1->icecream) (1.16.0)\n"
     ]
    },
    {
     "name": "stderr",
     "output_type": "stream",
     "text": [
      "WARNING: You are using pip version 21.1.2; however, version 21.2.4 is available.\n",
      "You should consider upgrading via the 'D:\\source\\lg_python_automation\\venv\\Scripts\\python.exe -m pip install --upgrade pip' command.\n"
     ]
    }
   ],
   "source": [
    "!pip install icecream"
   ]
  },
  {
   "cell_type": "code",
   "execution_count": 31,
   "id": "91c34a2c",
   "metadata": {},
   "outputs": [],
   "source": [
    "from icecream import ic"
   ]
  },
  {
   "cell_type": "code",
   "execution_count": 32,
   "id": "41b3198d",
   "metadata": {},
   "outputs": [],
   "source": [
    "# int() float()"
   ]
  },
  {
   "cell_type": "code",
   "execution_count": 33,
   "id": "756df2ca",
   "metadata": {},
   "outputs": [
    {
     "name": "stderr",
     "output_type": "stream",
     "text": [
      "ic| d: 1.1234567890123457\n"
     ]
    },
    {
     "data": {
      "text/plain": [
       "1.1234567890123457"
      ]
     },
     "execution_count": 33,
     "metadata": {},
     "output_type": "execute_result"
    }
   ],
   "source": [
    "d = 1.12345678901234567890\n",
    "ic(d)"
   ]
  },
  {
   "cell_type": "code",
   "execution_count": 34,
   "id": "ca7fbf7a",
   "metadata": {},
   "outputs": [
    {
     "name": "stderr",
     "output_type": "stream",
     "text": [
      "ic| d: 1.123\n"
     ]
    },
    {
     "data": {
      "text/plain": [
       "1.123"
      ]
     },
     "execution_count": 34,
     "metadata": {},
     "output_type": "execute_result"
    }
   ],
   "source": [
    "d = round(d, 3)\n",
    "ic(d)"
   ]
  },
  {
   "cell_type": "markdown",
   "id": "4944f4f7",
   "metadata": {},
   "source": [
    "### 4.String"
   ]
  },
  {
   "cell_type": "code",
   "execution_count": 35,
   "id": "8fc760b3",
   "metadata": {},
   "outputs": [
    {
     "name": "stderr",
     "output_type": "stream",
     "text": [
      "ic| a: 'Hello World'\n"
     ]
    },
    {
     "data": {
      "text/plain": [
       "'Hello World'"
      ]
     },
     "execution_count": 35,
     "metadata": {},
     "output_type": "execute_result"
    }
   ],
   "source": [
    "a = 'Hello World'\n",
    "ic(a)"
   ]
  },
  {
   "cell_type": "markdown",
   "id": "aabec5c2",
   "metadata": {},
   "source": [
    "- Slicing"
   ]
  },
  {
   "cell_type": "code",
   "execution_count": 36,
   "id": "3fc59d8b",
   "metadata": {},
   "outputs": [
    {
     "data": {
      "text/plain": [
       "'e'"
      ]
     },
     "execution_count": 36,
     "metadata": {},
     "output_type": "execute_result"
    }
   ],
   "source": [
    "a[1]"
   ]
  },
  {
   "cell_type": "code",
   "execution_count": 37,
   "id": "fb1221a3",
   "metadata": {},
   "outputs": [
    {
     "data": {
      "text/plain": [
       "'el'"
      ]
     },
     "execution_count": 37,
     "metadata": {},
     "output_type": "execute_result"
    }
   ],
   "source": [
    "a[1:3]"
   ]
  },
  {
   "cell_type": "code",
   "execution_count": 38,
   "id": "66ba3642",
   "metadata": {},
   "outputs": [
    {
     "data": {
      "text/plain": [
       "'el ol'"
      ]
     },
     "execution_count": 38,
     "metadata": {},
     "output_type": "execute_result"
    }
   ],
   "source": [
    "# variable[start:end:increment]\n",
    "a[1::2]"
   ]
  },
  {
   "cell_type": "code",
   "execution_count": 39,
   "id": "f7de38d0",
   "metadata": {},
   "outputs": [
    {
     "data": {
      "text/plain": [
       "'d'"
      ]
     },
     "execution_count": 39,
     "metadata": {},
     "output_type": "execute_result"
    }
   ],
   "source": [
    "a[-1]"
   ]
  },
  {
   "cell_type": "code",
   "execution_count": 40,
   "id": "09736f55",
   "metadata": {},
   "outputs": [
    {
     "name": "stderr",
     "output_type": "stream",
     "text": [
      "ic| a: 'Hello World'\n"
     ]
    },
    {
     "data": {
      "text/plain": [
       "'Hello World'"
      ]
     },
     "execution_count": 40,
     "metadata": {},
     "output_type": "execute_result"
    }
   ],
   "source": [
    "a = 'Hello World'\n",
    "ic(a)"
   ]
  },
  {
   "cell_type": "code",
   "execution_count": 41,
   "id": "0f51ca5a",
   "metadata": {},
   "outputs": [
    {
     "data": {
      "text/plain": [
       "'llo World'"
      ]
     },
     "execution_count": 41,
     "metadata": {},
     "output_type": "execute_result"
    }
   ],
   "source": [
    "a[2:]"
   ]
  },
  {
   "cell_type": "code",
   "execution_count": 42,
   "id": "a8f15076",
   "metadata": {},
   "outputs": [
    {
     "data": {
      "text/plain": [
       "'He'"
      ]
     },
     "execution_count": 42,
     "metadata": {},
     "output_type": "execute_result"
    }
   ],
   "source": [
    "a[:2]"
   ]
  },
  {
   "cell_type": "code",
   "execution_count": 43,
   "id": "76c39212",
   "metadata": {},
   "outputs": [
    {
     "data": {
      "text/plain": [
       "'World'"
      ]
     },
     "execution_count": 43,
     "metadata": {},
     "output_type": "execute_result"
    }
   ],
   "source": [
    "a[-5:]"
   ]
  },
  {
   "cell_type": "markdown",
   "id": "68763e39",
   "metadata": {},
   "source": [
    "- operation"
   ]
  },
  {
   "cell_type": "code",
   "execution_count": 44,
   "id": "1a2cbb2c",
   "metadata": {},
   "outputs": [
    {
     "name": "stderr",
     "output_type": "stream",
     "text": [
      "ic| c: 'HelloWorld'\n"
     ]
    },
    {
     "data": {
      "text/plain": [
       "'HelloWorld'"
      ]
     },
     "execution_count": 44,
     "metadata": {},
     "output_type": "execute_result"
    }
   ],
   "source": [
    "a = 'Hello'\n",
    "b = 'World'\n",
    "c = a + b\n",
    "ic(c)"
   ]
  },
  {
   "cell_type": "code",
   "execution_count": 45,
   "id": "7aea0bba",
   "metadata": {},
   "outputs": [
    {
     "ename": "TypeError",
     "evalue": "can't multiply sequence by non-int of type 'str'",
     "output_type": "error",
     "traceback": [
      "\u001b[1;31m---------------------------------------------------------------------------\u001b[0m",
      "\u001b[1;31mTypeError\u001b[0m                                 Traceback (most recent call last)",
      "\u001b[1;32m~\\AppData\\Local\\Temp/ipykernel_8816/887332239.py\u001b[0m in \u001b[0;36m<module>\u001b[1;34m\u001b[0m\n\u001b[1;32m----> 1\u001b[1;33m \u001b[0mc\u001b[0m \u001b[1;33m=\u001b[0m \u001b[0ma\u001b[0m\u001b[1;33m*\u001b[0m\u001b[0mb\u001b[0m\u001b[1;33m\u001b[0m\u001b[1;33m\u001b[0m\u001b[0m\n\u001b[0m\u001b[0;32m      2\u001b[0m \u001b[0mic\u001b[0m\u001b[1;33m(\u001b[0m\u001b[0mc\u001b[0m\u001b[1;33m)\u001b[0m\u001b[1;33m\u001b[0m\u001b[1;33m\u001b[0m\u001b[0m\n",
      "\u001b[1;31mTypeError\u001b[0m: can't multiply sequence by non-int of type 'str'"
     ]
    }
   ],
   "source": [
    "c = a*b\n",
    "ic(c)"
   ]
  },
  {
   "cell_type": "code",
   "execution_count": 46,
   "id": "6d53fd3b",
   "metadata": {},
   "outputs": [
    {
     "ename": "TypeError",
     "evalue": "unsupported operand type(s) for -: 'str' and 'str'",
     "output_type": "error",
     "traceback": [
      "\u001b[1;31m---------------------------------------------------------------------------\u001b[0m",
      "\u001b[1;31mTypeError\u001b[0m                                 Traceback (most recent call last)",
      "\u001b[1;32m~\\AppData\\Local\\Temp/ipykernel_8816/1329187330.py\u001b[0m in \u001b[0;36m<module>\u001b[1;34m\u001b[0m\n\u001b[1;32m----> 1\u001b[1;33m \u001b[0mc\u001b[0m \u001b[1;33m=\u001b[0m \u001b[0ma\u001b[0m \u001b[1;33m-\u001b[0m \u001b[0mb\u001b[0m\u001b[1;33m\u001b[0m\u001b[1;33m\u001b[0m\u001b[0m\n\u001b[0m\u001b[0;32m      2\u001b[0m \u001b[0mic\u001b[0m\u001b[1;33m(\u001b[0m\u001b[0mc\u001b[0m\u001b[1;33m)\u001b[0m\u001b[1;33m\u001b[0m\u001b[1;33m\u001b[0m\u001b[0m\n",
      "\u001b[1;31mTypeError\u001b[0m: unsupported operand type(s) for -: 'str' and 'str'"
     ]
    }
   ],
   "source": [
    "c = a - b\n",
    "ic(c)"
   ]
  },
  {
   "cell_type": "code",
   "execution_count": 47,
   "id": "c8a1ae0a",
   "metadata": {},
   "outputs": [
    {
     "data": {
      "text/plain": [
       "'===================================================================================================='"
      ]
     },
     "execution_count": 47,
     "metadata": {},
     "output_type": "execute_result"
    }
   ],
   "source": [
    "#'==========================================================='\n",
    "a = '='\n",
    "a * 100"
   ]
  },
  {
   "cell_type": "code",
   "execution_count": 48,
   "id": "24f678ec",
   "metadata": {},
   "outputs": [
    {
     "name": "stderr",
     "output_type": "stream",
     "text": [
      "ic| c: 'HelloWorld'\n"
     ]
    },
    {
     "data": {
      "text/plain": [
       "'HelloWorld'"
      ]
     },
     "execution_count": 48,
     "metadata": {},
     "output_type": "execute_result"
    }
   ],
   "source": [
    "a = 'Hello'\n",
    "b = 'World'\n",
    "c = a + b\n",
    "ic(c)"
   ]
  },
  {
   "cell_type": "code",
   "execution_count": 49,
   "id": "176acd20",
   "metadata": {},
   "outputs": [
    {
     "name": "stdout",
     "output_type": "stream",
     "text": [
      "Yes\n"
     ]
    }
   ],
   "source": [
    "# if / else if / else\n",
    "# {}\n",
    "# if a:\n",
    "#     pass\n",
    "# elif:\n",
    "#     pass\n",
    "# else:\n",
    "#     pass\n",
    "a = 'Hello World'\n",
    "if 'Hello' in a:\n",
    "    print('Yes')\n",
    "else:\n",
    "    print('No')"
   ]
  },
  {
   "cell_type": "code",
   "execution_count": 50,
   "id": "4cb40877",
   "metadata": {},
   "outputs": [
    {
     "name": "stdout",
     "output_type": "stream",
     "text": [
      "No\n"
     ]
    }
   ],
   "source": [
    "a = 'Hello World'\n",
    "if 'Hello' not in a:\n",
    "    print('Yes')\n",
    "else:\n",
    "    print('No')"
   ]
  },
  {
   "cell_type": "markdown",
   "id": "79893323",
   "metadata": {},
   "source": [
    "- Formatting"
   ]
  },
  {
   "cell_type": "markdown",
   "id": "0b4c70bc",
   "metadata": {},
   "source": [
    "> % operator"
   ]
  },
  {
   "cell_type": "code",
   "execution_count": 51,
   "id": "78d77b91",
   "metadata": {},
   "outputs": [
    {
     "name": "stdout",
     "output_type": "stream",
     "text": [
      "Charactor: A\n",
      "String: Elias Kim\n",
      "Integer: 22\n",
      "Float: 180.500000\n",
      "Hex: 0x2f 0x2F\n",
      "Exponential: 2.200000e+01\n"
     ]
    }
   ],
   "source": [
    "char_A = 'A'\n",
    "name = 'Elias Kim'\n",
    "age = 22\n",
    "height = 180.5\n",
    "\n",
    "# %c, %d, %s, %f, %x, %e\n",
    "print('Charactor: %c' % ord(char_A))\n",
    "print('String: %s' % name)\n",
    "print('Integer: %d' % age)\n",
    "\n",
    "print('Float: %f' % height)\n",
    "print('Hex: 0x%x 0x%X' % (47,47))\n",
    "print('Exponential: %e' % age)"
   ]
  },
  {
   "cell_type": "code",
   "execution_count": 52,
   "id": "59a66f1a",
   "metadata": {},
   "outputs": [
    {
     "name": "stdout",
     "output_type": "stream",
     "text": [
      "A1\n",
      "B1\n",
      "C1\n",
      "D1\n",
      "E1\n",
      "F1\n",
      "G1\n",
      "H1\n",
      "I1\n",
      "J1\n",
      "K1\n",
      "L1\n",
      "M1\n",
      "N1\n",
      "O1\n",
      "P1\n",
      "Q1\n",
      "R1\n",
      "S1\n",
      "T1\n",
      "U1\n",
      "V1\n",
      "W1\n",
      "X1\n",
      "Y1\n",
      "Z1\n"
     ]
    }
   ],
   "source": [
    "for char in range(65, 65 + 26):\n",
    "    cell = '%c1' % char\n",
    "    print(cell)"
   ]
  },
  {
   "cell_type": "code",
   "execution_count": 59,
   "id": "cd1d0e1d",
   "metadata": {},
   "outputs": [
    {
     "name": "stdout",
     "output_type": "stream",
     "text": [
      "Elias Kim 22 180.5\n",
      "[           Elias Kim]\n",
      "[Elias Kim           ]\n",
      "[   22]\n",
      "[22   ]\n",
      "[00022]\n",
      "[180.500]\n"
     ]
    }
   ],
   "source": [
    "print('%s %s %s' % (name, age, height))\n",
    "print('[%20s]' % name) # 우측정렬(기본값)\n",
    "print('[%-20s]' % name) # 좌측정렬\n",
    "print('[%5d]' % age) # 우측정렬(기본값)\n",
    "print('[%-5d]' % age)# 좌측정렬\n",
    "print('[%05d]' % age) # 우측정렬(기본값)\n",
    "print('[%0.3f]' % height) # 우측정렬(기본값)"
   ]
  },
  {
   "cell_type": "markdown",
   "id": "09b8cada",
   "metadata": {},
   "source": [
    "> format mathod"
   ]
  },
  {
   "cell_type": "code",
   "execution_count": 60,
   "id": "cd071fc1",
   "metadata": {},
   "outputs": [
    {
     "data": {
      "text/plain": [
       "'Elias Kim: 22/180.5'"
      ]
     },
     "execution_count": 60,
     "metadata": {},
     "output_type": "execute_result"
    }
   ],
   "source": [
    "'{}: {}/{}'.format(name, age, height)\n",
    "# '{0}: {1}/{2}'.format(name, age, height)"
   ]
  },
  {
   "cell_type": "code",
   "execution_count": 62,
   "id": "45f599e0",
   "metadata": {},
   "outputs": [
    {
     "data": {
      "text/plain": [
       "'180.5: 22/Elias Kim'"
      ]
     },
     "execution_count": 62,
     "metadata": {},
     "output_type": "execute_result"
    }
   ],
   "source": [
    "'{2}: {1}/{0}'.format(name, age, height)"
   ]
  },
  {
   "cell_type": "code",
   "execution_count": 63,
   "id": "05ee048c",
   "metadata": {},
   "outputs": [
    {
     "data": {
      "text/plain": [
       "'Elias Kim: 22/180.5'"
      ]
     },
     "execution_count": 63,
     "metadata": {},
     "output_type": "execute_result"
    }
   ],
   "source": [
    "'{_name}: {_age}/{_height}'.format(_name=name, _age=age, _height=height)"
   ]
  },
  {
   "cell_type": "code",
   "execution_count": 65,
   "id": "c9ea9aac",
   "metadata": {},
   "outputs": [
    {
     "data": {
      "text/plain": [
       "'[Elias Kim           ]'"
      ]
     },
     "execution_count": 65,
     "metadata": {},
     "output_type": "execute_result"
    }
   ],
   "source": [
    "'[{0:20}]'.format(name)"
   ]
  },
  {
   "cell_type": "code",
   "execution_count": 66,
   "id": "9a1e4b9e",
   "metadata": {},
   "outputs": [
    {
     "data": {
      "text/plain": [
       "'[           Elias Kim]'"
      ]
     },
     "execution_count": 66,
     "metadata": {},
     "output_type": "execute_result"
    }
   ],
   "source": [
    "'[{0:>20}]'.format(name)"
   ]
  },
  {
   "cell_type": "code",
   "execution_count": 67,
   "id": "d65b9619",
   "metadata": {},
   "outputs": [
    {
     "data": {
      "text/plain": [
       "'[     Elias Kim      ]'"
      ]
     },
     "execution_count": 67,
     "metadata": {},
     "output_type": "execute_result"
    }
   ],
   "source": [
    "'[{0:^20}]'.format(name)"
   ]
  },
  {
   "cell_type": "code",
   "execution_count": 68,
   "id": "7b63e83f",
   "metadata": {},
   "outputs": [
    {
     "data": {
      "text/plain": [
       "'[=====Elias Kim======]'"
      ]
     },
     "execution_count": 68,
     "metadata": {},
     "output_type": "execute_result"
    }
   ],
   "source": [
    "'[{0:=^20}]'.format(name)"
   ]
  },
  {
   "cell_type": "code",
   "execution_count": 72,
   "id": "1b262c6e",
   "metadata": {},
   "outputs": [
    {
     "data": {
      "text/plain": [
       "'[  180.5000]'"
      ]
     },
     "execution_count": 72,
     "metadata": {},
     "output_type": "execute_result"
    }
   ],
   "source": [
    "'[{0:10.4f}]'.format(height)"
   ]
  },
  {
   "cell_type": "markdown",
   "id": "2ecd3fc6",
   "metadata": {},
   "source": [
    "> f format"
   ]
  },
  {
   "cell_type": "code",
   "execution_count": 77,
   "id": "cf2de933",
   "metadata": {},
   "outputs": [
    {
     "data": {
      "text/plain": [
       "'Elias Kim: 22/180.5'"
      ]
     },
     "execution_count": 77,
     "metadata": {},
     "output_type": "execute_result"
    }
   ],
   "source": [
    "f'{name}: {age}/{height}'"
   ]
  },
  {
   "cell_type": "code",
   "execution_count": 82,
   "id": "7c38354a",
   "metadata": {},
   "outputs": [
    {
     "name": "stderr",
     "output_type": "stream",
     "text": [
      "ic| phone_number: '12345'\n"
     ]
    },
    {
     "data": {
      "text/plain": [
       "'12345'"
      ]
     },
     "execution_count": 82,
     "metadata": {},
     "output_type": "execute_result"
    }
   ],
   "source": [
    "phone = 12345\n",
    "phone_number = f'{phone}'\n",
    "ic(phone_number)"
   ]
  },
  {
   "cell_type": "markdown",
   "id": "34aa9d47",
   "metadata": {},
   "source": [
    "- Built in String method"
   ]
  },
  {
   "cell_type": "code",
   "execution_count": 86,
   "id": "95aeb481",
   "metadata": {},
   "outputs": [],
   "source": [
    "a = 'hello World'"
   ]
  },
  {
   "cell_type": "code",
   "execution_count": 89,
   "id": "659b131e",
   "metadata": {},
   "outputs": [
    {
     "data": {
      "text/plain": [
       "'Hello world'"
      ]
     },
     "execution_count": 89,
     "metadata": {},
     "output_type": "execute_result"
    }
   ],
   "source": [
    "a.capitalize() # 첫번째 문자가 대문자로 변경"
   ]
  },
  {
   "cell_type": "code",
   "execution_count": 88,
   "id": "f2dd6aa2",
   "metadata": {},
   "outputs": [
    {
     "data": {
      "text/plain": [
       "11"
      ]
     },
     "execution_count": 88,
     "metadata": {},
     "output_type": "execute_result"
    }
   ],
   "source": [
    "len(a) # 문자열의 길이값 리턴"
   ]
  },
  {
   "cell_type": "code",
   "execution_count": 90,
   "id": "01f4ad64",
   "metadata": {},
   "outputs": [
    {
     "data": {
      "text/plain": [
       "'HELLO WORLD'"
      ]
     },
     "execution_count": 90,
     "metadata": {},
     "output_type": "execute_result"
    }
   ],
   "source": [
    "a.upper() # 대문자로 변환"
   ]
  },
  {
   "cell_type": "code",
   "execution_count": 91,
   "id": "e06fae28",
   "metadata": {},
   "outputs": [
    {
     "data": {
      "text/plain": [
       "'hello world'"
      ]
     },
     "execution_count": 91,
     "metadata": {},
     "output_type": "execute_result"
    }
   ],
   "source": [
    "a.lower() # 소문자로 변환"
   ]
  },
  {
   "cell_type": "code",
   "execution_count": 92,
   "id": "805a7309",
   "metadata": {},
   "outputs": [
    {
     "data": {
      "text/plain": [
       "3"
      ]
     },
     "execution_count": 92,
     "metadata": {},
     "output_type": "execute_result"
    }
   ],
   "source": [
    "a.count('l') # 문자열내에 해당문자가 포함된 개수"
   ]
  },
  {
   "cell_type": "code",
   "execution_count": 93,
   "id": "8732599f",
   "metadata": {},
   "outputs": [
    {
     "data": {
      "text/plain": [
       "6"
      ]
     },
     "execution_count": 93,
     "metadata": {},
     "output_type": "execute_result"
    }
   ],
   "source": [
    "a.find('W') # 문자열내에 해당문자의 위치"
   ]
  },
  {
   "cell_type": "code",
   "execution_count": 94,
   "id": "7be6fb2d",
   "metadata": {},
   "outputs": [
    {
     "data": {
      "text/plain": [
       "6"
      ]
     },
     "execution_count": 94,
     "metadata": {},
     "output_type": "execute_result"
    }
   ],
   "source": [
    "a.index('W') # 문자열내에 해당문자의 위치"
   ]
  },
  {
   "cell_type": "code",
   "execution_count": 95,
   "id": "d9cccb01",
   "metadata": {},
   "outputs": [
    {
     "data": {
      "text/plain": [
       "-1"
      ]
     },
     "execution_count": 95,
     "metadata": {},
     "output_type": "execute_result"
    }
   ],
   "source": [
    "a.find('z') # 해당문자가 없으면 -1 리턴"
   ]
  },
  {
   "cell_type": "code",
   "execution_count": 97,
   "id": "3d7c36a3",
   "metadata": {},
   "outputs": [
    {
     "ename": "ValueError",
     "evalue": "substring not found",
     "output_type": "error",
     "traceback": [
      "\u001b[1;31m---------------------------------------------------------------------------\u001b[0m",
      "\u001b[1;31mValueError\u001b[0m                                Traceback (most recent call last)",
      "\u001b[1;32m~\\AppData\\Local\\Temp/ipykernel_8816/1804504478.py\u001b[0m in \u001b[0;36m<module>\u001b[1;34m\u001b[0m\n\u001b[1;32m----> 1\u001b[1;33m \u001b[0ma\u001b[0m\u001b[1;33m.\u001b[0m\u001b[0mindex\u001b[0m\u001b[1;33m(\u001b[0m\u001b[1;34m'z'\u001b[0m\u001b[1;33m)\u001b[0m \u001b[1;31m# 해당문자가 없으면 예외발생\u001b[0m\u001b[1;33m\u001b[0m\u001b[1;33m\u001b[0m\u001b[0m\n\u001b[0m",
      "\u001b[1;31mValueError\u001b[0m: substring not found"
     ]
    }
   ],
   "source": [
    "a.index('z') # 해당문자가 없으면 예외발생"
   ]
  },
  {
   "cell_type": "code",
   "execution_count": 98,
   "id": "ef522356",
   "metadata": {},
   "outputs": [
    {
     "data": {
      "text/plain": [
       "True"
      ]
     },
     "execution_count": 98,
     "metadata": {},
     "output_type": "execute_result"
    }
   ],
   "source": [
    "num = '12345'\n",
    "num.isnumeric() # 문자열이 숫자냐?"
   ]
  },
  {
   "cell_type": "code",
   "execution_count": 99,
   "id": "10d7be6d",
   "metadata": {},
   "outputs": [
    {
     "data": {
      "text/plain": [
       "True"
      ]
     },
     "execution_count": 99,
     "metadata": {},
     "output_type": "execute_result"
    }
   ],
   "source": [
    "num.isdigit() # 문자열이 숫자냐?"
   ]
  },
  {
   "cell_type": "code",
   "execution_count": 100,
   "id": "7c9296d0",
   "metadata": {},
   "outputs": [
    {
     "data": {
      "text/plain": [
       "True"
      ]
     },
     "execution_count": 100,
     "metadata": {},
     "output_type": "execute_result"
    }
   ],
   "source": [
    "num.isdecimal() # 문자열이 숫자냐?"
   ]
  },
  {
   "cell_type": "code",
   "execution_count": 102,
   "id": "2da32fdb",
   "metadata": {},
   "outputs": [
    {
     "name": "stderr",
     "output_type": "stream",
     "text": [
      "ic| num2.isnumeric(): True\n",
      "ic| num2.isdigit(): True\n",
      "ic| num2.isdecimal(): False\n"
     ]
    },
    {
     "data": {
      "text/plain": [
       "False"
      ]
     },
     "execution_count": 102,
     "metadata": {},
     "output_type": "execute_result"
    }
   ],
   "source": [
    "num2 = '3²'\n",
    "ic(num2.isnumeric())\n",
    "ic(num2.isdigit())\n",
    "ic(num2.isdecimal())"
   ]
  },
  {
   "cell_type": "code",
   "execution_count": 122,
   "id": "6789ebe9",
   "metadata": {},
   "outputs": [
    {
     "name": "stdout",
     "output_type": "stream",
     "text": [
      "True\n",
      "False\n"
     ]
    }
   ],
   "source": [
    "alphabet = 'abcdef'\n",
    "print(alphabet.isalpha()) # 문자냐?\n",
    "alphabet = 'abc def'\n",
    "print(alphabet.isalpha())"
   ]
  },
  {
   "cell_type": "code",
   "execution_count": 123,
   "id": "fa3d26b9",
   "metadata": {},
   "outputs": [
    {
     "data": {
      "text/plain": [
       "False"
      ]
     },
     "execution_count": 123,
     "metadata": {},
     "output_type": "execute_result"
    }
   ],
   "source": [
    "alphabet.isspace() # 문자열안에 빈공간(space bar)이 있냐?"
   ]
  },
  {
   "cell_type": "code",
   "execution_count": 127,
   "id": "1eb11726",
   "metadata": {},
   "outputs": [
    {
     "name": "stderr",
     "output_type": "stream",
     "text": [
      "ic| a: 'Hello World'\n",
      "ic| type(a): <class 'str'>\n",
      "ic| b: b'Hello World'\n",
      "ic| type(b): <class 'bytes'>\n"
     ]
    },
    {
     "data": {
      "text/plain": [
       "bytes"
      ]
     },
     "execution_count": 127,
     "metadata": {},
     "output_type": "execute_result"
    }
   ],
   "source": [
    "a = 'Hello World'\n",
    "ic(a)\n",
    "ic(type(a))\n",
    "b = a.encode()\n",
    "ic(b)\n",
    "ic(type(b))"
   ]
  },
  {
   "cell_type": "code",
   "execution_count": 129,
   "id": "465382c3",
   "metadata": {},
   "outputs": [
    {
     "name": "stderr",
     "output_type": "stream",
     "text": [
      "ic| c: 'Hello World'\n",
      "ic| type(c): <class 'str'>\n"
     ]
    },
    {
     "data": {
      "text/plain": [
       "str"
      ]
     },
     "execution_count": 129,
     "metadata": {},
     "output_type": "execute_result"
    }
   ],
   "source": [
    "c = b.decode()\n",
    "ic(c)\n",
    "ic(type(c))"
   ]
  },
  {
   "cell_type": "code",
   "execution_count": 151,
   "id": "d934df56",
   "metadata": {},
   "outputs": [],
   "source": [
    "a = '안녕 세계야~'\n",
    "# a = 'Hello World'"
   ]
  },
  {
   "cell_type": "code",
   "execution_count": 157,
   "id": "ea90fed0",
   "metadata": {},
   "outputs": [
    {
     "data": {
      "text/plain": [
       "b'\\xbe\\xc8\\xb3\\xe7 \\xbc\\xbc\\xb0\\xe8\\xbe\\xdf~'"
      ]
     },
     "execution_count": 157,
     "metadata": {},
     "output_type": "execute_result"
    }
   ],
   "source": [
    "b = a.encode(encoding='cp949') # Codepage 949: 한글\n",
    "b"
   ]
  },
  {
   "cell_type": "code",
   "execution_count": 155,
   "id": "6c21b0cf",
   "metadata": {},
   "outputs": [
    {
     "data": {
      "text/plain": [
       "'안녕 세계야~'"
      ]
     },
     "execution_count": 155,
     "metadata": {},
     "output_type": "execute_result"
    }
   ],
   "source": [
    "# c = b.decode(encoding='utf-8') # Error\n",
    "c = b.decode(encoding='cp949')\n",
    "c"
   ]
  },
  {
   "cell_type": "code",
   "execution_count": 159,
   "id": "e847d7d4",
   "metadata": {},
   "outputs": [
    {
     "data": {
      "text/plain": [
       "b'\\xec\\x95\\x88\\xeb\\x85\\x95 \\xec\\x84\\xb8\\xea\\xb3\\x84\\xec\\x95\\xbc~'"
      ]
     },
     "execution_count": 159,
     "metadata": {},
     "output_type": "execute_result"
    }
   ],
   "source": [
    "b = a.encode(encoding='utf-8') # Codepage 949: 한글\n",
    "b"
   ]
  },
  {
   "cell_type": "code",
   "execution_count": 162,
   "id": "7fe38efa",
   "metadata": {},
   "outputs": [
    {
     "data": {
      "text/plain": [
       "'안녕 세계야~'"
      ]
     },
     "execution_count": 162,
     "metadata": {},
     "output_type": "execute_result"
    }
   ],
   "source": [
    "# c = b.decode(encoding='cp949') # Error\n",
    "c = b.decode(encoding='utf-8')\n",
    "c"
   ]
  },
  {
   "cell_type": "code",
   "execution_count": 167,
   "id": "912c2439",
   "metadata": {},
   "outputs": [
    {
     "name": "stderr",
     "output_type": "stream",
     "text": [
      "ic| a: 'dog,cat,tiger,lion'\n",
      "ic| str(a): 'dog,cat,tiger,lion'\n"
     ]
    },
    {
     "data": {
      "text/plain": [
       "'dog,cat,tiger,lion'"
      ]
     },
     "execution_count": 167,
     "metadata": {},
     "output_type": "execute_result"
    }
   ],
   "source": [
    "animals = ['dog', 'cat', 'tiger', 'lion']\n",
    "a = ','.join(animals) # 리스트를 문자열로 변환\n",
    "ic(a)\n",
    "ic(str(a))"
   ]
  },
  {
   "cell_type": "code",
   "execution_count": 168,
   "id": "22539792",
   "metadata": {},
   "outputs": [
    {
     "name": "stderr",
     "output_type": "stream",
     "text": [
      "ic| b: ['dog', 'cat', 'tiger', 'lion']\n",
      "ic| type(b): <class 'list'>\n"
     ]
    },
    {
     "data": {
      "text/plain": [
       "list"
      ]
     },
     "execution_count": 168,
     "metadata": {},
     "output_type": "execute_result"
    }
   ],
   "source": [
    "b = a.split(',')\n",
    "ic(b)\n",
    "ic(type(b))"
   ]
  },
  {
   "cell_type": "code",
   "execution_count": 171,
   "id": "821cfaa6",
   "metadata": {},
   "outputs": [
    {
     "name": "stderr",
     "output_type": "stream",
     "text": [
      "ic| phone.strip(): '010881901983'\n",
      "ic| phone.lstrip(): '010881901983    '\n",
      "ic| phone.rstrip(): '    010881901983'\n"
     ]
    },
    {
     "data": {
      "text/plain": [
       "'    010881901983'"
      ]
     },
     "execution_count": 171,
     "metadata": {},
     "output_type": "execute_result"
    }
   ],
   "source": [
    "phone = '    010881901983    '\n",
    "# phone2 = '010881901983'\n",
    "# phone == phone2\n",
    "ic(phone.strip())\n",
    "ic(phone.lstrip())\n",
    "ic(phone.rstrip())"
   ]
  },
  {
   "cell_type": "code",
   "execution_count": 174,
   "id": "58a91a92",
   "metadata": {},
   "outputs": [
    {
     "name": "stderr",
     "output_type": "stream",
     "text": [
      "ic| new_phone: '010.3103.2819'\n",
      "ic| phone: '010-3103-2819'\n"
     ]
    },
    {
     "data": {
      "text/plain": [
       "'010-3103-2819'"
      ]
     },
     "execution_count": 174,
     "metadata": {},
     "output_type": "execute_result"
    }
   ],
   "source": [
    "phone = '010-3103-2819' # 010.XXXX.XXXX\n",
    "new_phone = phone.replace('-', '.')\n",
    "ic(new_phone)\n",
    "ic(phone)"
   ]
  },
  {
   "cell_type": "code",
   "execution_count": null,
   "id": "73ed08f0",
   "metadata": {},
   "outputs": [],
   "source": []
  },
  {
   "cell_type": "code",
   "execution_count": null,
   "id": "7f64c9be",
   "metadata": {},
   "outputs": [],
   "source": []
  },
  {
   "cell_type": "code",
   "execution_count": null,
   "id": "a9ab8e2a",
   "metadata": {},
   "outputs": [],
   "source": []
  },
  {
   "cell_type": "code",
   "execution_count": null,
   "id": "f85fdb47",
   "metadata": {},
   "outputs": [],
   "source": []
  },
  {
   "cell_type": "code",
   "execution_count": null,
   "id": "9388a540",
   "metadata": {},
   "outputs": [],
   "source": []
  },
  {
   "cell_type": "code",
   "execution_count": null,
   "id": "fc4a8299",
   "metadata": {},
   "outputs": [],
   "source": []
  },
  {
   "cell_type": "code",
   "execution_count": null,
   "id": "61499bf0",
   "metadata": {},
   "outputs": [],
   "source": []
  },
  {
   "cell_type": "code",
   "execution_count": null,
   "id": "3cd26002",
   "metadata": {},
   "outputs": [],
   "source": []
  },
  {
   "cell_type": "code",
   "execution_count": null,
   "id": "d9f37771",
   "metadata": {},
   "outputs": [],
   "source": []
  },
  {
   "cell_type": "code",
   "execution_count": null,
   "id": "85326ece",
   "metadata": {},
   "outputs": [],
   "source": []
  },
  {
   "cell_type": "code",
   "execution_count": null,
   "id": "fdc0deee",
   "metadata": {},
   "outputs": [],
   "source": []
  },
  {
   "cell_type": "code",
   "execution_count": null,
   "id": "ef5cb753",
   "metadata": {},
   "outputs": [],
   "source": []
  }
 ],
 "metadata": {
  "kernelspec": {
   "display_name": "Python 3 (ipykernel)",
   "language": "python",
   "name": "python3"
  },
  "language_info": {
   "codemirror_mode": {
    "name": "ipython",
    "version": 3
   },
   "file_extension": ".py",
   "mimetype": "text/x-python",
   "name": "python",
   "nbconvert_exporter": "python",
   "pygments_lexer": "ipython3",
   "version": "3.8.5"
  }
 },
 "nbformat": 4,
 "nbformat_minor": 5
}
